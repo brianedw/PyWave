{
 "cells": [
  {
   "cell_type": "code",
   "execution_count": 65,
   "metadata": {
    "Collapsed": "false"
   },
   "outputs": [],
   "source": [
    "from scipy.sparse.linalg import dsolve, spsolve, bicg, bicgstab, cg\n",
    "from scipy.sparse.linalg import cgs, gmres, lgmres, lsmr\n",
    "from scipy.sparse import csc_matrix\n",
    "import numpy as np\n",
    "import scipy.sparse as sp"
   ]
  },
  {
   "cell_type": "code",
   "execution_count": 1,
   "metadata": {
    "Collapsed": "false"
   },
   "outputs": [],
   "source": [
    "def vPrint(v, *args):  \n",
    "    if v:\n",
    "        print(*args)"
   ]
  },
  {
   "cell_type": "code",
   "execution_count": 66,
   "metadata": {
    "Collapsed": "false"
   },
   "outputs": [],
   "source": [
    "class LGMRES_with_Library:\n",
    "    __instance = None\n",
    "    library = []    \n",
    "\n",
    "    @staticmethod \n",
    "    def getInstance():\n",
    "        \"\"\" Static access method. \"\"\"\n",
    "        if LGMRES_with_Library.__instance == None:\n",
    "            LGMRES_with_Library()\n",
    "        return LGMRES_with_Library.__instance\n",
    "\n",
    "    def __init__(self):\n",
    "        \"\"\" Virtually private constructor. \"\"\"\n",
    "        self.threshDist = 0.01\n",
    "        if LGMRES_with_Library.__instance != None:\n",
    "            raise Exception(\"This class is a singleton!\")\n",
    "        else:\n",
    "            LGMRES_with_Library.__instance = self"
   ]
  },
  {
   "cell_type": "code",
   "execution_count": null,
   "metadata": {
    "Collapsed": "false"
   },
   "outputs": [],
   "source": [
    "class LSMR_with_Library:\n",
    "    __instance = None\n",
    "    library = []    \n",
    "\n",
    "    @staticmethod \n",
    "    def getInstance():\n",
    "        \"\"\" Static access method. \"\"\"\n",
    "        if LSMR_with_Library.__instance == None:\n",
    "            LSMR_with_Library()\n",
    "        return LSMR_with_Library.__instance\n",
    "\n",
    "    def __init__(self):\n",
    "        \"\"\" Virtually private constructor. \"\"\"\n",
    "        self.threshDist = 0.01\n",
    "        if LSMR_with_Library.__instance != None:\n",
    "            raise Exception(\"This class is a singleton!\")\n",
    "        else:\n",
    "            LSMR_with_Library.__instance = self"
   ]
  },
  {
   "cell_type": "code",
   "execution_count": null,
   "metadata": {
    "Collapsed": "false"
   },
   "outputs": [],
   "source": [
    "def computeProblemDistance(prob1, prob2):\n",
    "    M1 = prob1['M']\n",
    "    M2 = prob2['M']\n",
    "    B1 = prob1['B']\n",
    "    B2 = prob2['B']\n",
    "\n",
    "    if (M1.shape != M2.shape):\n",
    "#         print(\"    M1.shape != M2.shape\")\n",
    "        return 2\n",
    "    elif np.sum(np.abs(B1-B2)) > 0:\n",
    "#         print(\"    sum(abs(B1-B2))\", np.sum(np.abs(B1-B2)))\n",
    "        return 2\n",
    "    else:\n",
    "        return np.clip(np.mean(np.abs(M1.data - M2.data)), 0, 1)"
   ]
  },
  {
   "cell_type": "code",
   "execution_count": null,
   "metadata": {
    "Collapsed": "false"
   },
   "outputs": [],
   "source": [
    "def getSimilarProbSln(self, newProb):\n",
    "    nCols = newProb['M'].shape[1]\n",
    "    xZero = np.zeros_like(newProb['M'], shape = (nCols,))\n",
    "    distances = [computeProblemDistance(newProb, oldProb) for oldProb in LGMRES_with_Library.library]\n",
    "#     print(\"  distances:\", distances)\n",
    "    if len(distances) == 0:\n",
    "        return None\n",
    "    iMin = np.argmin(distances)\n",
    "    minDist = distances[iMin]\n",
    "    if minDist < self.threshDist:\n",
    "        x0 = LGMRES_with_Library.library[iMin]['X']\n",
    "        return x0\n",
    "    else:\n",
    "        return None\n",
    "setattr(LGMRES_with_Library, \"getSimilarProbSln\", getSimilarProbSln)"
   ]
  },
  {
   "cell_type": "code",
   "execution_count": null,
   "metadata": {
    "Collapsed": "false"
   },
   "outputs": [],
   "source": [
    "def getSimilarProbSln(self, newProb):\n",
    "    nCols = newProb['M'].shape[1]\n",
    "    xZero = np.zeros_like(newProb['M'], shape = (nCols,))\n",
    "    distances = [computeProblemDistance(newProb, oldProb) for oldProb in LSMR_with_Library.library]\n",
    "#     print(\"  distances:\", distances)\n",
    "    if len(distances) == 0:\n",
    "        return None\n",
    "    iMin = np.argmin(distances)\n",
    "    minDist = distances[iMin]\n",
    "    if minDist < self.threshDist:\n",
    "        x0 = LSMR_with_Library.library[iMin]['X']\n",
    "        return x0\n",
    "    else:\n",
    "        return None\n",
    "setattr(LSMR_with_Library, \"getSimilarProbSln\", getSimilarProbSln)"
   ]
  },
  {
   "cell_type": "code",
   "execution_count": null,
   "metadata": {
    "Collapsed": "false"
   },
   "outputs": [],
   "source": [
    "def my_lgmres(self, M, B, verbose = False):\n",
    "    v = verbose\n",
    "    vPrint(v,\"LGMRES\")\n",
    "    newProb = {'M':M, 'B':B}\n",
    "    X0 = self.getSimilarProbSln(newProb)\n",
    "    if X0 is None:\n",
    "        vPrint(v, \"  Nothing in Library that is close.  Starting fresh\")\n",
    "        X, exitCode = lgmres(csc_matrix(newProb['M']), newProb['B'], atol=1e-6)\n",
    "    else:\n",
    "        vPrint(v, \"  Starting from similar problem\")\n",
    "        X, exitCode = lgmres(csc_matrix(newProb['M']), newProb['B'], x0 = X0, atol=1e-6)\n",
    "    if exitCode > 0 and X0 is not None:\n",
    "        vPrint(v, \"  Didn't converge with starting solution. Restarting fresh\")\n",
    "        X, exitCode = lgmres(csc_matrix(newProb['M']), newProb['B'], atol=1e-6)\n",
    "    if exitCode == 0:\n",
    "        vPrint(v, \"  Solution was good.  Adding it to the library\")\n",
    "        LGMRES_with_Library.library.append({'M':M, 'B':B, 'X':X})\n",
    "    else:\n",
    "        vPrint(v, \"  final exitCode:\", exitCode)\n",
    "    return (X, exitCode)\n",
    "setattr(LGMRES_with_Library, \"lgmres\", my_lgmres)"
   ]
  },
  {
   "cell_type": "code",
   "execution_count": 7,
   "metadata": {
    "Collapsed": "false"
   },
   "outputs": [
    {
     "ename": "NameError",
     "evalue": "name 'LSMR_with_Library' is not defined",
     "output_type": "error",
     "traceback": [
      "\u001b[1;31m---------------------------------------------------------------------------\u001b[0m",
      "\u001b[1;31mNameError\u001b[0m                                 Traceback (most recent call last)",
      "\u001b[1;32m<ipython-input-7-b622563dbf0a>\u001b[0m in \u001b[0;36m<module>\u001b[1;34m\u001b[0m\n\u001b[0;32m     21\u001b[0m         \u001b[0mprint\u001b[0m\u001b[1;33m(\u001b[0m\u001b[1;34m\"  final exitCode:\"\u001b[0m\u001b[1;33m,\u001b[0m \u001b[0mexitCode\u001b[0m\u001b[1;33m)\u001b[0m\u001b[1;33m\u001b[0m\u001b[1;33m\u001b[0m\u001b[0m\n\u001b[0;32m     22\u001b[0m     \u001b[1;32mreturn\u001b[0m \u001b[1;33m(\u001b[0m\u001b[0mX\u001b[0m\u001b[1;33m,\u001b[0m \u001b[0mexitCode\u001b[0m\u001b[1;33m)\u001b[0m\u001b[1;33m\u001b[0m\u001b[1;33m\u001b[0m\u001b[0m\n\u001b[1;32m---> 23\u001b[1;33m \u001b[0msetattr\u001b[0m\u001b[1;33m(\u001b[0m\u001b[0mLSMR_with_Library\u001b[0m\u001b[1;33m,\u001b[0m \u001b[1;34m\"lsmr\"\u001b[0m\u001b[1;33m,\u001b[0m \u001b[0mmy_lsmr\u001b[0m\u001b[1;33m)\u001b[0m\u001b[1;33m\u001b[0m\u001b[1;33m\u001b[0m\u001b[0m\n\u001b[0m",
      "\u001b[1;31mNameError\u001b[0m: name 'LSMR_with_Library' is not defined"
     ]
    }
   ],
   "source": [
    "def my_lsmr(self, M, B, verbose = False):\n",
    "    v = verbose\n",
    "    vPrint(v,\"LSMR\")\n",
    "    newProb = {'M':M, 'B':B}\n",
    "    X0 = self.getSimilarProbSln(newProb)\n",
    "    if X0 is None:\n",
    "        vPrint(v,\"  Nothing in Library that is close.  Starting fresh\")\n",
    "        solnPkg = lsmr(csc_matrix(newProb['M']), newProb['B'], atol=1e-6)\n",
    "        X, exitCode = solnPkg[0:2]\n",
    "    else:\n",
    "        vPrint(v,\"  Starting from similar problem\")\n",
    "        solnPkg = lsmr(csc_matrix(newProb['M']), newProb['B'], x0 = X0, atol=1e-6)\n",
    "        X, exitCode = solnPkg[0:2] \n",
    "    if exitCode > 2 and X0 is not None:\n",
    "        vPrint(v,\"LSMR: Didn't converge with starting solution. Restarting fresh\")\n",
    "        solnPkg = lsmr(csc_matrix(newProb['M']), newProb['B'], atol=1e-6)\n",
    "        X, exitCode = solnPkg[0:2]  \n",
    "    if exitCode <= 2:\n",
    "        vPrint(v,\"  Solution was good.  Adding it to the library\")\n",
    "        LSMR_with_Library.library.append({'M':M, 'B':B, 'X':X})\n",
    "    else:\n",
    "        vPrint(v,\"  final exitCode:\", exitCode)\n",
    "    return (X, exitCode)\n",
    "setattr(LSMR_with_Library, \"lsmr\", my_lsmr)"
   ]
  },
  {
   "cell_type": "markdown",
   "metadata": {
    "Collapsed": "false"
   },
   "source": [
    "solver = LGMRES_with_Library.getInstance()"
   ]
  },
  {
   "cell_type": "markdown",
   "metadata": {
    "Collapsed": "false"
   },
   "source": [
    "\"\"\" lgmres(csc_matrix(self.M), self.B, x0=self.fullFields1D, tol=1e-6)\"\"\";"
   ]
  },
  {
   "cell_type": "markdown",
   "metadata": {
    "Collapsed": "false"
   },
   "source": [
    "B1 = np.array(sp.random(1000,1).todense()).flatten()\n",
    "B2 = B1.copy()\n",
    "B3 = B1.copy()"
   ]
  },
  {
   "cell_type": "markdown",
   "metadata": {
    "Collapsed": "false"
   },
   "source": [
    "M1 = sp.random(1000,1000)\n",
    "dM = 0.01*np.random.uniform(-1,1,size=M1.size)\n",
    "M2 = M1.copy()\n",
    "M2.data += dM\n",
    "dM = 0.1*np.random.uniform(-1,1,size=M1.size)\n",
    "M3 = M1.copy()\n",
    "M3.data += dM"
   ]
  },
  {
   "cell_type": "markdown",
   "metadata": {
    "Collapsed": "false"
   },
   "source": [
    "threshDist = 0.1"
   ]
  },
  {
   "cell_type": "markdown",
   "metadata": {
    "Collapsed": "false"
   },
   "source": [
    "solver.library"
   ]
  }
 ],
 "metadata": {
  "kernelspec": {
   "display_name": "Python 3",
   "language": "python",
   "name": "python3"
  },
  "language_info": {
   "codemirror_mode": {
    "name": "ipython",
    "version": 3
   },
   "file_extension": ".py",
   "mimetype": "text/x-python",
   "name": "python",
   "nbconvert_exporter": "python",
   "pygments_lexer": "ipython3",
   "version": "3.7.6"
  }
 },
 "nbformat": 4,
 "nbformat_minor": 4
}
