{
 "cells": [
  {
   "cell_type": "code",
   "execution_count": null,
   "metadata": {},
   "outputs": [],
   "source": [
    "from shapely.geometry import LineString, MultiPolygon, Polygon, MultiLineString, MultiPoint, Point\n",
    "import itertools"
   ]
  },
  {
   "cell_type": "code",
   "execution_count": null,
   "metadata": {},
   "outputs": [],
   "source": [
    "import numpy as np"
   ]
  },
  {
   "cell_type": "code",
   "execution_count": null,
   "metadata": {},
   "outputs": [],
   "source": [
    "def findIntersection(line1, line2):\n",
    "    \"\"\"\n",
    "    Given line1 = ((x1,y1), (x2,y2)) and line2 = ((x3, y3), (x4, y4)), both treated\n",
    "    as infinite, this will return the point that is at the intersection.\n",
    "    \"\"\"\n",
    "    (pt1, pt2) = line1\n",
    "    (pt3, pt4) = line2\n",
    "    (x1, y1) = pt1\n",
    "    (x2, y2) = pt2\n",
    "    (x3, y3) = pt3\n",
    "    (x4, y4) = pt4\n",
    "    px= ( (x1*y2-y1*x2)*(x3-x4)-(x1-x2)*(x3*y4-y3*x4) ) / ( (x1-x2)*(y3-y4)-(y1-y2)*(x3-x4) ) \n",
    "    py= ( (x1*y2-y1*x2)*(y3-y4)-(y1-y2)*(x3*y4-y3*x4) ) / ( (x1-x2)*(y3-y4)-(y1-y2)*(x3-x4) )\n",
    "    return (px, py)"
   ]
  },
  {
   "cell_type": "code",
   "execution_count": null,
   "metadata": {},
   "outputs": [],
   "source": [
    "def TangentialCurve(pt1pt2pt3, r, maxCurve=5):\n",
    "    \"\"\"\n",
    "    Given three points ((x1,y1), (x2,y2), (x3,y3)), representing two \n",
    "    line segments, this function will return the curve that is tangent\n",
    "    to these to segments.\n",
    "    \n",
    "    If the segments are colinear, this will simply return pt2.\n",
    "    \"\"\"\n",
    "    pt0, pt1, pt2 = np.array(pt1pt2pt3)\n",
    "    v1 = pt1-pt0\n",
    "    v2 = pt2-pt1\n",
    "    v1Norm = np.linalg.norm(v1)\n",
    "    v2Norm = np.linalg.norm(v2)\n",
    "    v1N = v1/v1Norm\n",
    "    v2N = v2/v2Norm\n",
    "    s = np.sign(np.cross(v1N,v2N))\n",
    "    if s == 0:\n",
    "        pt1x, pt1y = pt1\n",
    "        return [(pt1x, pt1y)]\n",
    "    v1Orth = np.array([[0,-1],[1,0]])@v1N\n",
    "    v2Orth = np.array([[0,-1],[1,0]])@v2N\n",
    "    offset1 = (pt0+r*s*v1Orth, pt1+r*s*v1Orth)\n",
    "    offset2 = (pt1+r*s*v2Orth, pt2+r*s*v2Orth)\n",
    "    ptC = findIntersection(offset1, offset2)\n",
    "    ptS = ptC - r*s*v1Orth\n",
    "    ptE = ptC - r*s*v2Orth\n",
    "    deltaAngle = s*np.arccos(np.dot(v1N,v2N))\n",
    "    tX, tY = -s*v1Orth\n",
    "    angleS = np.arctan2(tY, tX)\n",
    "    angleE = angleS + deltaAngle\n",
    "    deg = 2*np.pi/360\n",
    "    n = int(round(abs(deltaAngle)/(maxCurve*deg)))\n",
    "    angles = np.linspace(angleS, angleE, num=n)\n",
    "    ptCx, ptCy = ptC\n",
    "    curvePoints = [(np.cos(a)*r + ptCx, np.sin(a)*r + ptCy) for a in angles]\n",
    "    return curvePoints"
   ]
  },
  {
   "cell_type": "code",
   "execution_count": null,
   "metadata": {},
   "outputs": [],
   "source": [
    "def SmoothCurve(guidePoints, r):\n",
    "    \"\"\"\n",
    "    Given a set of guide points [(x1, y1), (x2, y2), ..., (xn, yn)], and a radius\n",
    "    this will produce smoothed version of the curve where all corners are filleted\n",
    "    to the given radius.\n",
    "    \"\"\"\n",
    "    listOfLists = [[guidePoints[0]]] + [TangentialCurve(guidePoints[i:i+3], r) for i in range(0,len(guidePoints)-2)] + [[guidePoints[-1]]]\n",
    "    return list(itertools.chain.from_iterable(listOfLists))"
   ]
  },
  {
   "cell_type": "code",
   "execution_count": null,
   "metadata": {},
   "outputs": [],
   "source": [
    "def buildCurvedWaveguide(guidePoints, rad, width):\n",
    "    \"\"\"\n",
    "    Creates a shapely polygon representing a waveguide.  Given set of \n",
    "    guide points [(x1, y1), (x2, y2), ..., (xn, yn)], this function will\n",
    "    smooth all inside corners and buffer the object to a given width.\n",
    "    \"\"\"\n",
    "    return LineString(SmoothCurve(guidePoints, rad)).buffer(width/2, cap_style=2)"
   ]
  },
  {
   "cell_type": "code",
   "execution_count": null,
   "metadata": {},
   "outputs": [],
   "source": [
    "guidePoints = [(0,0), (30,0), (20,10), (30,10)]\n",
    "rad = 3\n",
    "width = 2\n",
    "buildCurvedWaveguide(guidePoints, rad, width)"
   ]
  },
  {
   "cell_type": "code",
   "execution_count": null,
   "metadata": {},
   "outputs": [],
   "source": [
    "# def buildCurvedWaveguide(guidePoints, rad, width, delta=0.01):\n",
    "#     \"\"\"\n",
    "#     Creates a rounded waveguide as a Shapely Polyon object from a list of guide points.\n",
    "    \n",
    "#     guidepoints = list of tuples [(0,0), (1,0), (2,1), (3,1)]\n",
    "#     rad = radius of curvature on the waveguide.\n",
    "#     width = width of the waveguide.\n",
    "#     delta = small value used to deal with errors created by discretization of curves and \n",
    "#     floating point errors.  Larger values (ie 0.01) will make it more tolerant, but might have other side effects.\n",
    "#     \"\"\"\n",
    "#     guideLine = LineString(guidePoints)\n",
    "#     curvePolys = guideLine.buffer(rad).buffer(-rad-delta)\n",
    "#     if isinstance(curvePolys, Polygon):\n",
    "#         curvePolys = MultiPolygon([curvePolys])\n",
    "#     straights = guideLine.difference(curvePolys.buffer(2*delta))\n",
    "#     polyPerims = []\n",
    "#     for pol in curvePolys:\n",
    "#         boundary = pol.boundary\n",
    "#         if boundary.type == 'MultiLineString':\n",
    "#             for line in boundary:\n",
    "#                 polyPerims.append(line)\n",
    "#         else:\n",
    "#             polyPerims.append(boundary)\n",
    "#     mLineStr = MultiLineString(polyPerims)\n",
    "#     curves = mLineStr.difference(guideLine.buffer(4*delta))\n",
    "#     curveSketch = curves.union(straights)\n",
    "#     waveguidePoly = curveSketch.buffer(rad)\n",
    "#     waveguidePoly = waveguidePoly.buffer(-rad+width/2)\n",
    "#     return waveguidePoly"
   ]
  },
  {
   "cell_type": "code",
   "execution_count": null,
   "metadata": {},
   "outputs": [],
   "source": [
    "# buildCurvedWaveguide([(0,0), (1,0), (2,1), (3,1)], rad=2, width = 0.3, delta=0.01)"
   ]
  },
  {
   "cell_type": "code",
   "execution_count": null,
   "metadata": {},
   "outputs": [],
   "source": []
  }
 ],
 "metadata": {
  "kernelspec": {
   "display_name": "Python 3",
   "language": "python",
   "name": "python3"
  },
  "language_info": {
   "codemirror_mode": {
    "name": "ipython",
    "version": 3
   },
   "file_extension": ".py",
   "mimetype": "text/x-python",
   "name": "python",
   "nbconvert_exporter": "python",
   "pygments_lexer": "ipython3",
   "version": "3.7.4"
  }
 },
 "nbformat": 4,
 "nbformat_minor": 4
}
