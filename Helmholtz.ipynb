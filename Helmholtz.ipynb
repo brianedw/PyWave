{
 "cells": [
  {
   "cell_type": "markdown",
   "metadata": {
    "Collapsed": "false"
   },
   "source": [
    "## Imports"
   ]
  },
  {
   "cell_type": "markdown",
   "metadata": {
    "Collapsed": "false"
   },
   "source": [
    "Stock Imports"
   ]
  },
  {
   "cell_type": "code",
   "execution_count": 32,
   "metadata": {
    "Collapsed": "false",
    "run_control": {
     "frozen": false,
     "read_only": false
    }
   },
   "outputs": [],
   "source": [
    "import math\n",
    "import numpy as np\n",
    "import scipy\n",
    "\n",
    "from numba import njit\n",
    "\n",
    "import numpy.linalg as dLA\n",
    "import scipy.sparse.linalg as sLA\n",
    "import scipy.sparse as sp\n",
    "import scipy.sparse.linalg as sLA\n",
    "from scipy.sparse.linalg import dsolve, spsolve, bicg, bicgstab, cg\n",
    "from scipy.sparse.linalg import cgs, gmres, lgmres\n",
    "from scipy.sparse import csc_matrix\n",
    "\n",
    "from PIL import Image\n",
    "import matplotlib.pyplot as plt\n",
    "import matplotlib.animation\n",
    "from IPython.display import HTML"
   ]
  },
  {
   "cell_type": "markdown",
   "metadata": {
    "Collapsed": "false"
   },
   "source": [
    "Custom Imports"
   ]
  },
  {
   "cell_type": "code",
   "execution_count": 33,
   "metadata": {
    "Collapsed": "false",
    "run_control": {
     "frozen": false,
     "read_only": false
    }
   },
   "outputs": [],
   "source": [
    "from colorize import *\n",
    "from SparseSolverWithLibrary import LGMRES_with_Library"
   ]
  },
  {
   "cell_type": "code",
   "execution_count": 34,
   "metadata": {
    "Collapsed": "false"
   },
   "outputs": [],
   "source": [
    "LGMRESLib = LGMRES_with_Library.getInstance()"
   ]
  },
  {
   "cell_type": "code",
   "execution_count": 35,
   "metadata": {
    "Collapsed": "false"
   },
   "outputs": [],
   "source": [
    "pi = np.pi\n",
    "j = 1j"
   ]
  },
  {
   "cell_type": "markdown",
   "metadata": {
    "Collapsed": "false"
   },
   "source": [
    "## Notes"
   ]
  },
  {
   "cell_type": "markdown",
   "metadata": {
    "Collapsed": "false"
   },
   "source": [
    "Notes on coodinate systems:\n",
    " - `(x, y)`: For display and specification.  Origin is at 0,0 in the lower left hand corner.\n",
    " - `(i, j)`: Location in matrix. i is row, j is column.  (i, j) = (y, x)"
   ]
  },
  {
   "cell_type": "markdown",
   "metadata": {
    "Collapsed": "false"
   },
   "source": [
    "## Function Library"
   ]
  },
  {
   "cell_type": "markdown",
   "metadata": {
    "Collapsed": "false",
    "heading_collapsed": true
   },
   "source": [
    "### Physics"
   ]
  },
  {
   "cell_type": "code",
   "execution_count": 480,
   "metadata": {
    "Collapsed": "false"
   },
   "outputs": [],
   "source": [
    "NORMAL_CODE = 0\n",
    "ZERO_CODE = 1\n",
    "DERZERO_CODE = 2"
   ]
  },
  {
   "cell_type": "code",
   "execution_count": 481,
   "metadata": {
    "Collapsed": "false"
   },
   "outputs": [],
   "source": [
    "def pTypeToCode(str):\n",
    "    if str == \"normal\":\n",
    "        return NORMAL_CODE\n",
    "    elif str == \"zero\":\n",
    "        return ZERO_CODE\n",
    "    elif str == \"derZero\":\n",
    "        return DERZERO_CODE"
   ]
  },
  {
   "cell_type": "code",
   "execution_count": 482,
   "metadata": {
    "Collapsed": "false",
    "code_folding": [
     0
    ],
    "hidden": true,
    "run_control": {
     "frozen": false,
     "read_only": false
    }
   },
   "outputs": [],
   "source": [
    "class EMSim:\n",
    "    pass"
   ]
  },
  {
   "cell_type": "code",
   "execution_count": 767,
   "metadata": {
    "Collapsed": "false",
    "code_folding": [
     0
    ],
    "hidden": true,
    "run_control": {
     "frozen": false,
     "read_only": false
    }
   },
   "outputs": [],
   "source": [
    "def __init__(self, shape=(10, 10), WL0=20, margin='auto'):\n",
    "    \"\"\" EMSim is a simple 2D Finite Difference Frequency Domain Simulator \n",
    "    (FDFD).\n",
    "    \n",
    "    It was primarily designed as a teaching/research tool.  As such, it is\n",
    "    all fully exposed with all methods and attributes being public.\n",
    "    \n",
    "    Args:\n",
    "        shape (:tuple:`int`): The width (x) and height (y) in pixels of the \n",
    "            simulation sans any boundary that is added via `margin'.\n",
    "        WL0 (real number): The length of a free space wavelength in pixels.\n",
    "        margin (real number or 'auto'): How many pixels to surround the\n",
    "            siumulation domain.  These pixels will be used to create an \n",
    "            absorbing boundary.  If 'auto' is used, `margin = 2*WL0`.\n",
    "\n",
    "    Attributes:\n",
    "        shape (:tuple:`int`): The width and height of the simulation sans\n",
    "            any boundary that is added.\n",
    "        shapeFull (:tuple:`int`): The width and height of the simulation\n",
    "            including the margin.\n",
    "\n",
    "        All three of the following access the same data block with views:\n",
    "        nIndex (:np.array:(`complex`)):  The optical index of the simulation\n",
    "            within the margin\n",
    "        nIndexFull (:np.array:(`complex`)):  The optical index of the simulation\n",
    "            including the margin.\n",
    "        nIndexFull1D (:np.array:(`complex`)):  The optical index of the \n",
    "            simulation including the margin as a 1D vector as opposed to a 2D \n",
    "            array.\n",
    "            \n",
    "        All three of the following access the same data block with views:\n",
    "        fields (:np.array:(`complex`)):  The result of the simulation within\n",
    "            the margin\n",
    "        fieldsFull (:np.array:(`complex`)):  The result of the simulation\n",
    "            including the margin.\n",
    "        fieldsFull1D (:np.array:(`complex`)):  The result of the simulation\n",
    "            including the margin as a 1D vector as opposed to a 2D array.\n",
    "        \n",
    "        All three of the following access the same data block with views:\n",
    "        sources (:np.array:(`complex`)):  The sources of the simulation within\n",
    "            the margin\n",
    "        sourcesFull (:np.array:(`complex`)):  The sources of the simulation\n",
    "            including the margin.\n",
    "        sourcesFull1D (:np.array:(`complex`)):  The sources of the simulation\n",
    "            including the margin as a 1D vector as opposed to a 2D array.\n",
    "        \n",
    "        pType (:np.array:(`int`)): The category that the pixel falls into.\n",
    "            [0: normal, \n",
    "             1: field == 0, \n",
    "             2: derivatives == 0] \n",
    "             within the margin\n",
    "        catFull (:np.array:(`int`)): The category that the pixel falls into \n",
    "            including the margin.\n",
    "        catFull1D (:np.array:(`int`)):  The category that the pixel falls into \n",
    "            including the margin as a 1D vector as opposed to a 2D array.\n",
    "\n",
    "    \"\"\"\n",
    "    \n",
    "    self.NORMAL_CODE = 0\n",
    "    self.ZERO_CODE = 1\n",
    "    self.DERZERO_CODE = 2\n",
    "    \n",
    "    if margin=='auto':\n",
    "        self.margin = round(2*WL0)\n",
    "    else:\n",
    "        self.margin = margin\n",
    "    self.shape = shape\n",
    "    self.WL0 = WL0  # Size of wl0 in 'pixels'\n",
    "    # self.margin = int(math.ceil(self.WL0))  # Size of PML in 'pixels'\n",
    "    self.shapeFull = tuple(\n",
    "        x + 2 * self.margin for x in self.shape)  # shape with PML\n",
    "    # self.k0 = 2 * np.pi / WL0  # k0, free-space avenumber.\n",
    "    \n",
    "    m = self.margin\n",
    "    shapeFull = self.shapeFull\n",
    "\n",
    "    # The three vars below are all views of the same data block\n",
    "    self.fieldFull = np.zeros(shapeFull, np.complex)\n",
    "    self.field = self.fieldFull[m:-m, m:-m]\n",
    "    self.fieldFull1D = self.fieldFull.ravel()\n",
    "\n",
    "    # The three vars below are all views of the same data block\n",
    "    self.sourceFull = np.zeros(shapeFull, np.complex)\n",
    "    self.source = self.sourceFull[m:-m, m:-m]\n",
    "    self.sourceFull1D = self.sourceFull.ravel()\n",
    "    \n",
    "    # The three vars below are all views of the same data block.\n",
    "    # Normal: 0, field[x,y] == 0 : 1, d field[x,y]/du == 0 : 2\n",
    "    self.pTypeFull = np.full(shapeFull, 0, np.uint8)  \n",
    "    self.pType = self.pTypeFull[m:-m, m:-m]\n",
    "    self.pTypeFull1D = self.pTypeFull.ravel()\n",
    "\n",
    "    # The three vars below are all views of the same data block\n",
    "    self.nIndexFull = np.full(shapeFull, 1., np.complex)  \n",
    "    self.nIndex = self.nIndexFull[m:-m, m:-m]  \n",
    "    self.nIndexFull1D = self.nIndexFull.ravel()\n",
    "\n",
    "    \n",
    "setattr(EMSim, \"__init__\", __init__)"
   ]
  },
  {
   "cell_type": "code",
   "execution_count": 484,
   "metadata": {
    "Collapsed": "false",
    "code_folding": [
     0
    ],
    "hidden": true,
    "run_control": {
     "frozen": false,
     "read_only": false
    }
   },
   "outputs": [],
   "source": [
    "def BuildSimBounds(self, c=.5, a=2):\n",
    "    \"\"\"\n",
    "    Builds the margins of the simulation.\n",
    "    \n",
    "    The margins are built by padding the `nIndex` to `nIndexFull`\n",
    "    and `cat` to `catFull`.  They are padded using the numpy.pad with the 'edge'\n",
    "    option.  Whatever geometry is one the edge will copied into the margin.\n",
    "    \n",
    "    This should be called after all the changes to nIndex have been completed.\n",
    "    \n",
    "    Additionally, a loss term is added to the imaginary part of nIndex values \n",
    "    within the margin.  These losses are added according to the formula \n",
    "    `s(v) = c * v**a` where `v` is the relative distance into the margin.  The\n",
    "    value `c` is maximum value to be added and `a` gives the growth rate.\n",
    "    \"\"\"\n",
    "    m = self.margin\n",
    "    WL0 = self.WL0\n",
    "    (xMax, yMax) = self.shapeFull\n",
    "    # Pad nIndex\n",
    "    padded = np.pad(self.nIndex, ((m,m), (m,m)), 'edge')\n",
    "    self.nIndexFull[:] = padded[:]\n",
    "    def s(x):\n",
    "        return((c) * (x)**a)\n",
    "    sigmaX = [s((1/m)*max(m-i, 0, i-(xMax-m)+1)) for i in range(0,xMax)]\n",
    "    sigmaY = [s((1/m)*max(m-i, 0, i-(yMax-m)+1)) for i in range(0,yMax)]\n",
    "    edgeLoss = np.apply_along_axis(np.max, 0, np.meshgrid(sigmaY, sigmaX))\n",
    "    self.nIndexFull[:] += 1j*edgeLoss\n",
    "    # Pad pType\n",
    "    padded = np.pad(self.pType, ((m,m), (m,m)), 'edge')\n",
    "    self.pTypeFull[:] = padded[:]\n",
    "\n",
    "setattr(EMSim, \"BuildSimBounds\", BuildSimBounds)"
   ]
  },
  {
   "cell_type": "code",
   "execution_count": 485,
   "metadata": {
    "Collapsed": "false"
   },
   "outputs": [],
   "source": [
    "def solve(self):\n",
    "    \"\"\"\n",
    "    Solves the M.X == B system for X, ie the fieldsFull1D.\n",
    "    \"\"\"\n",
    "    X, code = lgmres(csc_matrix(self.M), self.B, atol=1e-6)\n",
    "    self.fieldFull1D[:] = X\n",
    "setattr(EMSim, \"solve\", solve)"
   ]
  },
  {
   "cell_type": "code",
   "execution_count": 486,
   "metadata": {
    "Collapsed": "false"
   },
   "outputs": [],
   "source": [
    "def solveFromLast(self):\n",
    "    \"\"\"\n",
    "    Solves the M.X == B system for X, ie the fieldsFull1D.\n",
    "    \n",
    "    Begins at the current state of fieldsFull1D.  This can be useful if only\n",
    "    a small change had been made.\n",
    "    \"\"\"\n",
    "    X, code = lgmres(csc_matrix(self.M), self.B, x0=self.fullFields1D, atol=1e-6)\n",
    "    self.fieldFull1D[:] = X\n",
    "setattr(EMSim, \"solveFromLast\", solveFromLast)"
   ]
  },
  {
   "cell_type": "code",
   "execution_count": 487,
   "metadata": {
    "Collapsed": "false"
   },
   "outputs": [],
   "source": [
    "def solveFromLibrary(self):\n",
    "    \"\"\"\n",
    "    Solves the M.X == B system for X, ie the fieldsFull1D.\n",
    "    \n",
    "    Searches the LGRMRESLib for the most similar problem that had been solved\n",
    "    and uses this as the starting conditions.  This can be useful if only\n",
    "    a small change had been made to some problem in the past.\n",
    "    \"\"\"\n",
    "    X, code = LGMRESLib.lgmres(csc_matrix(self.M), self.B, verbose=False)\n",
    "    self.fieldFull1D[:] = X\n",
    "setattr(EMSim, \"solveFromLibrary\", solveFromLibrary)"
   ]
  },
  {
   "cell_type": "markdown",
   "metadata": {
    "Collapsed": "false"
   },
   "source": [
    "### Indexing Functions"
   ]
  },
  {
   "cell_type": "markdown",
   "metadata": {
    "Collapsed": "false"
   },
   "source": [
    "Regarding Indexing:\n",
    "\n",
    "A choice needed to be made with regards to how to store the data.  There were several options, all mired in historical convention.  When thinking about a point on a 2D plane, it is convention to consider it as (x, y) where x denotes travel to the right and y denotes travel upwards.  However, when one considers how a 2D matrix is written, the A[3,0] would be the 4 down from the top left corner.  Matrices, like images, are written from the upper left corner right and then down.  How do we choose to reconcile this?\n",
    "\n",
    "In this work, it is less important how the matrices are stored and more important that the user interface is not confusing.  Therefore, we adopt the convention that A[0,0] refers to the origin is the in the lower-left corner and A[3,0] would the four values to the right of the origin. "
   ]
  },
  {
   "cell_type": "code",
   "execution_count": 488,
   "metadata": {
    "Collapsed": "false",
    "code_folding": [],
    "hidden": true,
    "run_control": {
     "frozen": false,
     "read_only": false
    }
   },
   "outputs": [],
   "source": [
    "@njit\n",
    "def indFull(xy, shapeFull):\n",
    "    \"\"\" Converts from indexing of \"full\" arrays to \"full1D\" arrays.\n",
    "    \n",
    "    For instance, i1D = Ind((x,y), (xLength, yLength)) will convert an index \n",
    "    such that [A]Full[i1D] and [A]Full[x, y]] address the same value, where \n",
    "    [A] is `field`, `nIndex`, `source`, etc.\n",
    "\n",
    "    It performs an identical function to \n",
    "    numpy.ravel_multi_index((y,x), (yMax, xMax), mode=('wrap', 'wrap'))\n",
    "\n",
    "    Args:\n",
    "        xy ( tuple:(int, int) ): The index in 2D, (x, y)\n",
    "           ( tuple:( np.array(int), np.array(ints) ): The indices in 2D, ([xs], [ys])\n",
    "        shapeFull (tuple: (int, int)): The second parameter.\n",
    "\n",
    "    Returns:\n",
    "        indices: The returned index/indices in 1D.\n",
    "\n",
    "    \"\"\"\n",
    "    (xMax, yMax) = shapeFull\n",
    "    (x, y) = xy\n",
    "    (xWrap, yWrap) = (x % xMax, y % yMax)\n",
    "    (i, j) = (yWrap, xWrap)\n",
    "    inds = yWrap + (xWrap * yMax)\n",
    "    \n",
    "#     inds = np.ravel_multi_index(array, (yMax, xMax), mode=('wrap','wrap'))\n",
    "    return inds"
   ]
  },
  {
   "cell_type": "code",
   "execution_count": 489,
   "metadata": {
    "Collapsed": "false"
   },
   "outputs": [],
   "source": [
    "def ind(self, xy):\n",
    "    \"\"\"\n",
    "    This returns the full1D index of a location for a point (x,y) in the \n",
    "    primary domain (ie no margins).\n",
    "    xy = (3, 3)\n",
    "    xy = ([1,2,3], [10, 12, 14])\n",
    "    xy = ([1,2,3], 10)\n",
    "    xy = (1, [10, 12, 14])\n",
    "    \"\"\"\n",
    "    x,y = xy\n",
    "    return indFull((x+self.margin, y+self.margin), self.shapeFull)\n",
    "setattr(EMSim, \"ind\", ind)"
   ]
  },
  {
   "cell_type": "code",
   "execution_count": 490,
   "metadata": {
    "Collapsed": "false"
   },
   "outputs": [],
   "source": [
    "def indRect(self, xyRange):\n",
    "    \"\"\"\n",
    "    xyRange = ((xMin, xMax), (yMin, yMax))\n",
    "    \"\"\"\n",
    "    ((xMin, xMax), (yMin, yMax)) = xyRange\n",
    "    xLin = np.arange(xMin, xMax+1)\n",
    "    yLin = np.arange(yMin, yMax+1)\n",
    "    xArray, yArray = np.meshgrid(xLin, yLin)\n",
    "    xFlat = xArray.flatten()\n",
    "    yFlat = yArray.flatten()\n",
    "    indFlat = self.ind((xFlat, yFlat))\n",
    "    return indFlat\n",
    "setattr(EMSim, \"indRect\", indRect)"
   ]
  },
  {
   "cell_type": "markdown",
   "metadata": {
    "Collapsed": "false"
   },
   "source": [
    "### Optimized Equation Generator"
   ]
  },
  {
   "cell_type": "code",
   "execution_count": 491,
   "metadata": {
    "Collapsed": "false",
    "code_folding": [
     0
    ],
    "hidden": true,
    "run_control": {
     "frozen": false,
     "read_only": false
    }
   },
   "outputs": [],
   "source": [
    "def buildSparsePhysicsEqs(self):\n",
    "    \"\"\"\n",
    "    Builds M and B of the matrix system M.X == B, where \n",
    "        X is the as of yet unknown fieldsFull1D\n",
    "        B is essentially the sourcesFull1D\n",
    "        and M is the relationship capturing the physics of the Helmholtz\n",
    "        equations including the pixType optical index.\n",
    "        \n",
    "        \n",
    "        \n",
    "    \"\"\"\n",
    "    k0 = 2*pi/self.WL0\n",
    "    n = self.fieldFull.size\n",
    "    \n",
    "    rslt = allEqGen(self.shapeFull, self.nIndexFull1D, self.pTypeFull1D, \n",
    "                    self.sourceFull1D, k0)\n",
    "    (self.rList, self.cList, self.vList, self.bList) = rslt\n",
    "    coo = sp.coo_matrix((self.vList, (self.rList, self.cList)), (n, n))\n",
    "    self.M = coo\n",
    "    self.B = np.array(self.bList)\n",
    "setattr(EMSim, \"buildSparsePhysicsEqs\", buildSparsePhysicsEqs)"
   ]
  },
  {
   "cell_type": "code",
   "execution_count": 465,
   "metadata": {
    "Collapsed": "false",
    "code_folding": [
     1
    ],
    "hidden": true,
    "run_control": {
     "frozen": false,
     "read_only": false
    }
   },
   "outputs": [],
   "source": [
    "@njit\n",
    "def allEqGen(shapeFull, nIndexFull1D, pTypeFull1D, sourceFull1D, k0):\n",
    "    (xMax, yMax) = shapeFull\n",
    "    nUnknowns = xMax*yMax\n",
    "    rowCoeffs = []\n",
    "    colCoeffs = []\n",
    "    valCoeffs = []\n",
    "    bCoeffs = []\n",
    "    for x in range(xMax):\n",
    "        for y in range(yMax):\n",
    "            xy = (x, y)\n",
    "            rslt = makeEzEq(xy, shapeFull, k0, nIndexFull1D, pTypeFull1D, \n",
    "                            sourceFull1D)\n",
    "            (newRowArray, newColArray, newCoeffArray, newBArray) = rslt\n",
    "            rowCoeffs.extend(newRowArray)\n",
    "            colCoeffs.extend(newColArray)\n",
    "            valCoeffs.extend(newCoeffArray)\n",
    "            bCoeffs.extend(newBArray)\n",
    "    return (rowCoeffs, colCoeffs, valCoeffs, bCoeffs)"
   ]
  },
  {
   "cell_type": "code",
   "execution_count": null,
   "metadata": {
    "Collapsed": "false",
    "code_folding": [
     1
    ],
    "hidden": true,
    "run_control": {
     "frozen": false,
     "read_only": false
    }
   },
   "outputs": [],
   "source": [
    "@njit\n",
    "def makeEzEq(xy, shapeFull, k0, nIndexFull1D, pTypeFull1D, sourceFull1D):\n",
    "    \"\"\"\n",
    "    \"\"\"\n",
    "    (x, y) = xy\n",
    "    delta = (1. + 0.j)\n",
    "    zeroC = (0. + 0.j)\n",
    "    \n",
    "    # Calculate Indices\n",
    "    xs = np.array([x, x-1, x+1,   x,   x])\n",
    "    ys = np.array([y,   y,   y, y-1, y+1])\n",
    "    inds = indFull((xs, ys), shapeFull)\n",
    "    (i00, iN0, iP0, i0N, i0P) = inds\n",
    "    eqNum = i00\n",
    "\n",
    "    [ z00,  zN0,  zP0,  z0N,  z0P] = (pTypeFull1D[inds] == ZERO_CODE)\n",
    "    [dz00, dzN0, dzP0, dz0N, dz0P] = (pTypeFull1D[inds] == DERZERO_CODE)\n",
    "    \n",
    "    s00 = sourceFull1D[i00]\n",
    "    n00 = nIndexFull1D[i00]\n",
    "    \n",
    "    rowArray =   (eqNum, eqNum, eqNum, eqNum, eqNum)\n",
    "    colArray =   (  i00,   iN0,   iP0,   i0N,   i0P)\n",
    "    coeffArray = (zeroC, zeroC, zeroC, zeroC, zeroC)\n",
    "    \n",
    "    if z00 == 1: # is PEC\n",
    "        coeffArray = (100+0j, zeroC, zeroC, zeroC, zeroC)\n",
    "        bArray = (zeroC,)\n",
    "    elif dz00 == 1: # is PMC\n",
    "        coeffArray = (100+0j, zeroC, zeroC, zeroC, zeroC)\n",
    "        bArray = (zeroC,)\n",
    "    else: # is standard\n",
    "        a = (4+0j) - (dzP0 + dzN0 + dz0P + dz0N)\n",
    "        coeffArray = ((delta*n00*k0)**2 - a, \n",
    "                      1 - zN0|dzN0, \n",
    "                      1 - zP0|dzP0,\n",
    "                      1 - z0N|dz0N,\n",
    "                      1 - z0P|dz0P)\n",
    "        bArray = (s00,)\n",
    "    return (rowArray, colArray, coeffArray, bArray)"
   ]
  },
  {
   "cell_type": "markdown",
   "metadata": {
    "Collapsed": "false",
    "heading_collapsed": true
   },
   "source": [
    "### Interface"
   ]
  },
  {
   "cell_type": "markdown",
   "metadata": {
    "Collapsed": "false"
   },
   "source": [
    "#### Source"
   ]
  },
  {
   "cell_type": "code",
   "execution_count": null,
   "metadata": {
    "Collapsed": "false",
    "hidden": true,
    "run_control": {
     "frozen": false,
     "read_only": false
    }
   },
   "outputs": [],
   "source": [
    "def setSource(self, xy, val):\n",
    "    \"\"\"\n",
    "    xy = (3, 3)\n",
    "    xy = ([1,2,3], [10, 12, 14])\n",
    "    xy = ([1,2,3], 10)\n",
    "    xy = (1, [10, 12, 14])\n",
    "    \"\"\"\n",
    "    (xs, ys) = xy\n",
    "    ids = self.ind((xs,ys))\n",
    "    self.sourceFull1D[ids] = val\n",
    "setattr(EMSim, 'setSource', setSource)"
   ]
  },
  {
   "cell_type": "code",
   "execution_count": null,
   "metadata": {
    "Collapsed": "false",
    "hidden": true,
    "run_control": {
     "frozen": false,
     "read_only": false
    }
   },
   "outputs": [],
   "source": [
    "def setSourceRect(self, xyRange, val):\n",
    "    inds = self.indRect(xyRange)\n",
    "    self.sourceFull1D[inds] = val\n",
    "setattr(EMSim, 'setSourceRect', setSourceRect)"
   ]
  },
  {
   "cell_type": "code",
   "execution_count": null,
   "metadata": {
    "Collapsed": "false"
   },
   "outputs": [],
   "source": [
    "def setSourceLineX(self, xRange, y0, width, val):\n",
    "    yRange = (round(y0-width/2), round(y0+width/2))\n",
    "    inds = self.indRect((xRange, yRange))\n",
    "    self.sourceFull1D[inds] = val\n",
    "setattr(EMSim, 'setSourceLineX', setSourceLineX)"
   ]
  },
  {
   "cell_type": "code",
   "execution_count": null,
   "metadata": {
    "Collapsed": "false"
   },
   "outputs": [],
   "source": [
    "def setSourceLineY(self, yRange, x0, width, val):\n",
    "    xRange = (round(y0-width/2), round(y0+width/2))\n",
    "    inds = self.indRect((xRange, yRange))\n",
    "    self.sourceFull1D[inds] = val\n",
    "setattr(EMSim, 'setSourceLineY', setSourceLineY)"
   ]
  },
  {
   "cell_type": "code",
   "execution_count": null,
   "metadata": {
    "Collapsed": "false"
   },
   "outputs": [],
   "source": [
    "def zeroSources(self):\n",
    "    self.sourceFull1D[:] = 0.+0.j\n",
    "    # self.B*=0\n",
    "setattr(EMSim, 'zeroSources', zeroSources)"
   ]
  },
  {
   "cell_type": "code",
   "execution_count": null,
   "metadata": {
    "Collapsed": "false",
    "hidden": true,
    "run_control": {
     "frozen": false,
     "read_only": false
    }
   },
   "outputs": [],
   "source": [
    "# def applyExcitation(self, excitation):\n",
    "#     (xs, ys, vals) = excitation\n",
    "#     self.sources[:] = 0\n",
    "#     for i in range(len(xs)):\n",
    "#         self.sources[ys[i], xs[i]] = vals[i]\n",
    "# setattr(EMSim, 'applyExcitation', applyExcitation)\n",
    "    "
   ]
  },
  {
   "cell_type": "markdown",
   "metadata": {
    "Collapsed": "false"
   },
   "source": [
    "#### nIndex"
   ]
  },
  {
   "cell_type": "code",
   "execution_count": null,
   "metadata": {
    "Collapsed": "false",
    "hidden": true,
    "run_control": {
     "frozen": false,
     "read_only": false
    }
   },
   "outputs": [],
   "source": [
    "def setNIndex(self, xy, n):\n",
    "    (xs, ys) = xy\n",
    "    ids = self.ind((xs,ys))\n",
    "    self.nIndexFull1D[ids] = n\n",
    "setattr(EMSim, 'setNIndex', setNIndex)"
   ]
  },
  {
   "cell_type": "code",
   "execution_count": null,
   "metadata": {
    "Collapsed": "false",
    "hidden": true,
    "run_control": {
     "frozen": false,
     "read_only": false
    }
   },
   "outputs": [],
   "source": [
    "def setNIndexRect(self, xyRange, n):\n",
    "    inds = self.indRect(xyRange)\n",
    "    self.nIndexFull1D[inds] = n\n",
    "setattr(EMSim, 'setNIndexRect', setNIndexRect)"
   ]
  },
  {
   "cell_type": "code",
   "execution_count": null,
   "metadata": {
    "Collapsed": "false"
   },
   "outputs": [],
   "source": [
    "def setNIndexLineX(self, xRange, y0, width, n):\n",
    "    yRange = (round(y0-width/2), round(y0+width/2))\n",
    "    inds = self.indRect((xRange, yRange))\n",
    "    self.nIndexFull1D[inds] = n\n",
    "setattr(EMSim, 'setNIndexLineX', setNIndexLineX)"
   ]
  },
  {
   "cell_type": "code",
   "execution_count": null,
   "metadata": {
    "Collapsed": "false"
   },
   "outputs": [],
   "source": [
    "def setNIndexLineY(self, yRange, x0, width, n):\n",
    "    xRange = (round(y0-width/2), round(y0+width/2))\n",
    "    inds = self.indRect((xRange, yRange))\n",
    "    self.nIndexFull1D[inds] = n\n",
    "setattr(EMSim, 'setNIndexLineY', setNIndexLineY)"
   ]
  },
  {
   "cell_type": "markdown",
   "metadata": {
    "Collapsed": "false"
   },
   "source": [
    "#### Boundary Conditions"
   ]
  },
  {
   "cell_type": "code",
   "execution_count": null,
   "metadata": {
    "Collapsed": "false",
    "hidden": true,
    "run_control": {
     "frozen": false,
     "read_only": false
    }
   },
   "outputs": [],
   "source": [
    "def setPType(self, xy, pType):\n",
    "    (xs, ys) = xy\n",
    "    val = pTypeToCode(pType)\n",
    "    ids = self.ind((xs,ys))\n",
    "    self.pTypeFull1D[ids] = val\n",
    "setattr(EMSim, 'setPType', setPType)"
   ]
  },
  {
   "cell_type": "code",
   "execution_count": null,
   "metadata": {
    "Collapsed": "false",
    "hidden": true,
    "run_control": {
     "frozen": false,
     "read_only": false
    }
   },
   "outputs": [],
   "source": [
    "def setPTypeRect(self, xyRange, pType):\n",
    "    ((xMin, xMax), (yMin, yMax)) = xyRange\n",
    "    val = pTypeToCode(pType)\n",
    "    ids = self.indRect(xyRange)\n",
    "    self.pTypeFull1D[ids] = val\n",
    "setattr(EMSim, 'setPTypeRect', setPTypeRect)"
   ]
  },
  {
   "cell_type": "code",
   "execution_count": null,
   "metadata": {
    "Collapsed": "false"
   },
   "outputs": [],
   "source": [
    "def setPTypeLineX(self, xRange, y0, width, bcType):\n",
    "    yRange = (round(y0-width/2), round(y0+width/2))\n",
    "    val = pTypeToCode(pType)\n",
    "    ids = self.indRect((xRange, yRange))\n",
    "    self.pTypeFull1D[ids] = val\n",
    "setattr(EMSim, 'setPTypeLineX', setPTypeLineX)"
   ]
  },
  {
   "cell_type": "code",
   "execution_count": null,
   "metadata": {
    "Collapsed": "false"
   },
   "outputs": [],
   "source": [
    "def setPTypeLineY(self, yRange, x0, width, bcType):\n",
    "    xRange = (round(x0-width/2), round(x0+width/2))\n",
    "    val = pTypeToCode(pType)\n",
    "    ids = self.indRect((xRange, yRange))\n",
    "    self.pTypeFull1D[ids] = val\n",
    "setattr(EMSim, 'setPTypeLineY', setPTypeLineY)"
   ]
  },
  {
   "cell_type": "markdown",
   "metadata": {
    "Collapsed": "false"
   },
   "source": [
    "### Visualization"
   ]
  },
  {
   "cell_type": "code",
   "execution_count": 750,
   "metadata": {
    "Collapsed": "false"
   },
   "outputs": [],
   "source": [
    "def add_margin(pil_img, m, color):\n",
    "    width, height = pil_img.size\n",
    "    new_width = width + 2*m\n",
    "    new_height = height + 2*m\n",
    "    result = Image.new(pil_img.mode, (new_width, new_height), color)\n",
    "    result.paste(pil_img, (m, m))\n",
    "    return result"
   ]
  },
  {
   "cell_type": "code",
   "execution_count": 762,
   "metadata": {
    "Collapsed": "false",
    "code_folding": [],
    "run_control": {
     "frozen": false,
     "marked": false,
     "read_only": false
    }
   },
   "outputs": [],
   "source": [
    "def visualizeSim(self, zoom=3, maxNRange=\"auto\", maxSourceRange=\"auto\", domain=\"interest\"):\n",
    "    # PEC/PMC: 1,  Normal: 0\n",
    "    if domain == \"interest\":\n",
    "        nIndex = self.nIndex\n",
    "        source = self.source\n",
    "        pType = self.pType\n",
    "    elif domain == \"full\":\n",
    "        nIndex = self.nIndexFull\n",
    "        source = self.sourceFull\n",
    "        pType = self.pTypeFull\n",
    "        \n",
    "    PECIndex = (pType == ZERO_CODE).astype(np.uint8)\n",
    "    PMCIndex = (pType == DERZERO_CODE).astype(np.uint8)\n",
    "\n",
    "    if maxNRange==\"auto\":\n",
    "        maxNR = np.max(np.abs(nIndex)) - 0.\n",
    "    else:\n",
    "        maxNR = maxNRange - 0.\n",
    "\n",
    "    if maxSourceRange==\"auto\":\n",
    "        maxSR = np.max(np.abs(source))\n",
    "    else:\n",
    "        maxSR = maxSourceRange\n",
    "\n",
    "    chi = (nIndex - (1 + 1j*10**-6))\n",
    "    rotScal = np.exp(1j*2*np.pi*(3/6))\n",
    "    nColor3D = colorizeComplexArray(chi*rotScal, maxRad=maxNR, centerColor='black')\n",
    "\n",
    "    PECColor3D = np.array([[(  0,  0,  255)]], dtype=np.uint8)\n",
    "    PMCColor3D = np.array([[(255,  0,  0)]], dtype=np.uint8)\n",
    "\n",
    "    choiceArray = (np.zeros_like(nIndex,dtype=np.uint8) + \n",
    "                   PECIndex + 2*PMCIndex)\n",
    "    \n",
    "    sourceMask = (source != 0).astype(np.uint8)\n",
    "    sourceColor3D = colorizeComplexArray(source, maxRad=maxSR, centerColor='black')\n",
    "    choiceArray = choiceArray*(1-sourceMask) + 3*sourceMask\n",
    "\n",
    "    nMask = np.atleast_3d(choiceArray == 0)\n",
    "    PECMask = np.atleast_3d(choiceArray == 1)\n",
    "    PMCMask = np.atleast_3d(choiceArray == 2)\n",
    "    sourceMask = np.atleast_3d(choiceArray == 3)\n",
    "    pixArray = nMask*nColor3D + PECMask*PECColor3D + PMCMask*PMCColor3D + sourceMask*sourceColor3D\n",
    "    \n",
    "    image = Image.fromarray(np.swapaxes(pixArray, 0, 1)[::-1])\n",
    "    (xSize, ySize) = pixArray.shape[0:2]\n",
    "    imageBig = image.resize(\n",
    "        (round(xSize * zoom), round(ySize * zoom)), Image.NEAREST)\n",
    "    imageBigPadded = add_margin(imageBig, 10, (128,128,128))\n",
    "    return imageBigPadded\n",
    "setattr(EMSim, 'visualizeSim', visualizeSim)"
   ]
  },
  {
   "cell_type": "code",
   "execution_count": null,
   "metadata": {
    "Collapsed": "false",
    "code_folding": [],
    "run_control": {
     "frozen": false,
     "read_only": false
    }
   },
   "outputs": [],
   "source": [
    "# def visualizeSources(self, zoom=3):\n",
    "#     maxRange = np.max(np.abs(self.sources))\n",
    "#     pixArray = colorizeComplexArray(\n",
    "#         self.sources[::-1], maxRad=maxRange, centerColor='black')\n",
    "#     image = Image.fromarray(pixArray.T)\n",
    "#     (ySize, xSize) = pixArray.shape[0:2]\n",
    "#     imageBig = image.resize(\n",
    "#         (xSize * zoom, ySize * zoom), Image.NEAREST)\n",
    "#     return imageBig\n",
    "# setattr(EMSim, 'visualizeSources', visualizeSources)"
   ]
  },
  {
   "cell_type": "code",
   "execution_count": 756,
   "metadata": {
    "Collapsed": "false",
    "code_folding": [],
    "run_control": {
     "frozen": false,
     "read_only": false
    }
   },
   "outputs": [],
   "source": [
    "def visualizeField(self, zoom=3, maxRange=\"auto\", domain=\"interest\", func=\"real\"):\n",
    "    if maxRange==\"auto\":\n",
    "        maxR = np.max(np.abs(self.field))\n",
    "    else:\n",
    "        maxR = np.abs(maxRange)\n",
    "    if domain==\"interest\":\n",
    "        field = self.field\n",
    "    elif domain==\"full\":\n",
    "        field = self.fieldFull\n",
    "    else:\n",
    "        raise Exception(\"visualizeField: 'domain' should be either 'full' or 'interest'\")\n",
    "    if func==\"real\":\n",
    "        pixArray = colorizeComplexArray(\n",
    "            field, maxRad=maxR, centerColor='black')\n",
    "    elif func==\"abs\":\n",
    "        pixArray = colorizeArray(field, \n",
    "                                 min_max=(0, maxR),\n",
    "                                 colors=([0, 0, 0], [255, 0, 0],\n",
    "                                         [255, 255, 255]),\n",
    "                                 preFunc=lambda x: np.abs(x))\n",
    "    else:\n",
    "        raise Exception(\"visualizeField: 'func' should be either 'real' or 'abs'\")\n",
    "    image = Image.fromarray(np.swapaxes(pixArray, 0, 1)[::-1])\n",
    "    (xSize, ySize) = pixArray.shape[0:2]\n",
    "    imageBig = image.resize(\n",
    "        (round(xSize * zoom), round(ySize * zoom)), Image.NEAREST)\n",
    "    imageBigPadded = add_margin(imageBig, 10, (128,128,128))\n",
    "    return imageBigPadded\n",
    "setattr(EMSim, 'visualizeField', visualizeField)"
   ]
  },
  {
   "cell_type": "code",
   "execution_count": null,
   "metadata": {
    "Collapsed": "false"
   },
   "outputs": [],
   "source": [
    "def visualizeAll(self, zoom=3, domain=\"interest\", func=\"real\"):\n",
    "    imageSim, imageField = (\n",
    "        self.visualizeSim(zoom=zoom, domain=domain), \n",
    "        self.visualizeField(zoom=zoom, domain=domain, func=func))\n",
    "    w1,h1 = imageSim.size\n",
    "    w2,h2 = imageField.size\n",
    "    hMax = max(h1,h2)\n",
    "    wMax = max(w1,w2)\n",
    "    new_im = Image.new('RGB', (2*wMax+6, hMax+4),(127, 127, 127))\n",
    "    for i, (im,h,w) in enumerate(zip([imageSim, imageField], (h1,h2), (w1, w2))):\n",
    "        new_im.paste(im, ((wMax-w)//2 + i*(wMax + 2) + 2, (hMax-h)//2 + 2))\n",
    "    return new_im\n",
    "setattr(EMSim, 'visualizeAll', visualizeAll)"
   ]
  },
  {
   "cell_type": "code",
   "execution_count": 732,
   "metadata": {
    "Collapsed": "false",
    "code_folding": [
     0
    ],
    "run_control": {
     "frozen": false,
     "read_only": false
    }
   },
   "outputs": [],
   "source": [
    "def animateFields(self, maxRange=\"auto\", domain=\"interest\"):\n",
    "    if domain==\"interest\":\n",
    "        fields = self.field\n",
    "        maxX, maxY = self.shape\n",
    "    elif domain==\"full\":\n",
    "        fields = self.fieldFull\n",
    "        maxX, maxY = self.shapeFull\n",
    "    \n",
    "    fig = plt.figure()\n",
    "    ax = plt.axes(xlim=(0-0.5, maxX-0.5), ylim=(0-.5, maxY-0.5))\n",
    "    ax.axis('off')\n",
    "\n",
    "    if maxRange==\"auto\":\n",
    "        maxR = np.max(np.abs(fields))\n",
    "    else:\n",
    "        maxR = maxRange\n",
    "\n",
    "    aC=np.swapaxes(fields, 0, 1)\n",
    "    pixArray = colorizeComplexArray(aC, maxRad=maxR, centerColor='black')\n",
    "    im = plt.imshow(pixArray,interpolation='none',)\n",
    "    # initialization function: plot the background of each frame\n",
    "    def init():\n",
    "        pixArray = colorizeComplexArray(aC, maxRad=maxR, centerColor='black')\n",
    "        \n",
    "        im.set_data(pixArray)\n",
    "        return im\n",
    "\n",
    "    # animation function.  This is called sequentially\n",
    "    def animate(i):\n",
    "        phi = 2*pi*i/20\n",
    "        pixArray = colorizeComplexArray(aC*np.exp(-1j*phi), maxRad=maxR, centerColor='black')\n",
    "        im.set_data(pixArray)\n",
    "        return im\n",
    "\n",
    "    ani = matplotlib.animation.FuncAnimation(fig, animate, frames=20)\n",
    "    return HTML(ani.to_jshtml())\n",
    "setattr(EMSim, 'animateFields', animateFields)"
   ]
  },
  {
   "cell_type": "code",
   "execution_count": null,
   "metadata": {
    "Collapsed": "false"
   },
   "outputs": [],
   "source": []
  }
 ],
 "metadata": {
  "anaconda-cloud": {},
  "kernelspec": {
   "display_name": "Python 3",
   "language": "python",
   "name": "python3"
  },
  "language_info": {
   "codemirror_mode": {
    "name": "ipython",
    "version": 3
   },
   "file_extension": ".py",
   "mimetype": "text/x-python",
   "name": "python",
   "nbconvert_exporter": "python",
   "pygments_lexer": "ipython3",
   "version": "3.7.6"
  },
  "latex_envs": {
   "LaTeX_envs_menu_present": true,
   "autoclose": false,
   "autocomplete": true,
   "bibliofile": "biblio.bib",
   "cite_by": "apalike",
   "current_citInitial": 1,
   "eqLabelWithNumbers": true,
   "eqNumInitial": 0,
   "hotkeys": {
    "equation": "Ctrl-E",
    "itemize": "Ctrl-I"
   },
   "labels_anchors": false,
   "latex_user_defs": false,
   "report_style_numbering": false,
   "user_envs_cfg": false
  },
  "toc-autonumbering": true,
  "toc-showmarkdowntxt": false,
  "varInspector": {
   "cols": {
    "lenName": 16,
    "lenType": 16,
    "lenVar": 40
   },
   "kernels_config": {
    "python": {
     "delete_cmd_postfix": "",
     "delete_cmd_prefix": "del ",
     "library": "var_list.py",
     "varRefreshCmd": "print(var_dic_list())"
    },
    "r": {
     "delete_cmd_postfix": ") ",
     "delete_cmd_prefix": "rm(",
     "library": "var_list.r",
     "varRefreshCmd": "cat(var_dic_list()) "
    }
   },
   "oldHeight": 122,
   "position": {
    "height": "634px",
    "left": "1550px",
    "right": "20px",
    "top": "120px",
    "width": "351px"
   },
   "types_to_exclude": [
    "module",
    "function",
    "builtin_function_or_method",
    "instance",
    "_Feature"
   ],
   "varInspector_section_display": "block",
   "window_display": false
  }
 },
 "nbformat": 4,
 "nbformat_minor": 4
}
