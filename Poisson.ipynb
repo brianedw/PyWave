{
 "cells": [
  {
   "cell_type": "markdown",
   "metadata": {
    "Collapsed": "false"
   },
   "source": [
    "## Imports"
   ]
  },
  {
   "cell_type": "markdown",
   "metadata": {
    "Collapsed": "false"
   },
   "source": [
    "Stock Imports"
   ]
  },
  {
   "cell_type": "code",
   "execution_count": null,
   "metadata": {
    "Collapsed": "false",
    "run_control": {
     "frozen": false,
     "read_only": false
    }
   },
   "outputs": [],
   "source": [
    "import math\n",
    "import numpy as np\n",
    "import scipy\n",
    "\n",
    "from numba import njit\n",
    "\n",
    "import numpy.linalg as dLA\n",
    "import scipy.sparse.linalg as sLA\n",
    "import scipy.sparse as sp\n",
    "import scipy.sparse.linalg as sLA\n",
    "from scipy.sparse.linalg import dsolve, spsolve, bicg, bicgstab, cg\n",
    "from scipy.sparse.linalg import cgs, gmres, lgmres\n",
    "from scipy.signal import convolve2d\n",
    "from scipy.sparse import csc_matrix\n",
    "\n",
    "from PIL import Image\n",
    "import matplotlib.pyplot as plt\n",
    "import matplotlib.animation\n",
    "from IPython.display import HTML"
   ]
  },
  {
   "cell_type": "code",
   "execution_count": null,
   "metadata": {},
   "outputs": [],
   "source": [
    "import bokeh\n",
    "from bokeh.io import output_notebook\n",
    "from bokeh.plotting import figure, show\n",
    "from bokeh.io import export_svgs\n",
    "from bokeh.models import Arrow, NormalHead, OpenHead, VeeHead\n",
    "from bokeh.layouts import gridplot, row\n",
    "\n",
    "print(\"Bokeh Version:\", bokeh.__version__)\n",
    "\n",
    "output_notebook()\n",
    "bokeh.io.curdoc().theme = 'dark_minimal'"
   ]
  },
  {
   "cell_type": "code",
   "execution_count": null,
   "metadata": {},
   "outputs": [],
   "source": [
    "from shapely.geometry import LineString, MultiPolygon, Polygon, MultiLineString, MultiPoint, Point"
   ]
  },
  {
   "cell_type": "markdown",
   "metadata": {
    "Collapsed": "false"
   },
   "source": [
    "Custom Imports"
   ]
  },
  {
   "cell_type": "code",
   "execution_count": null,
   "metadata": {
    "Collapsed": "false",
    "run_control": {
     "frozen": false,
     "read_only": false
    }
   },
   "outputs": [],
   "source": [
    "from colorize import *"
   ]
  },
  {
   "cell_type": "code",
   "execution_count": null,
   "metadata": {
    "Collapsed": "false"
   },
   "outputs": [],
   "source": [
    "pi = np.pi\n",
    "j = 1j"
   ]
  },
  {
   "cell_type": "markdown",
   "metadata": {
    "Collapsed": "false"
   },
   "source": [
    "## Notes"
   ]
  },
  {
   "cell_type": "markdown",
   "metadata": {
    "Collapsed": "false"
   },
   "source": [
    "Notes on coodinate systems:\n",
    "\n",
    "We use `(x, y)` for both display and specification.  Origin is at 0,0 in the lower left hand corner.  For a given field `F[10,0]` would denote the point at `(x,y) = (10,0)`.  This allows intuitive specification, but runs counter to how one would typically write a matrix on a sheet of paper, with element `(i,j) = (0,0)` being in upper left hand corner, `i` denoting row and `j` denoting column."
   ]
  },
  {
   "cell_type": "markdown",
   "metadata": {
    "Collapsed": "false"
   },
   "source": [
    "## Function Library"
   ]
  },
  {
   "cell_type": "markdown",
   "metadata": {
    "Collapsed": "false",
    "heading_collapsed": true
   },
   "source": [
    "### Physics"
   ]
  },
  {
   "cell_type": "code",
   "execution_count": null,
   "metadata": {
    "Collapsed": "false"
   },
   "outputs": [],
   "source": [
    "NORMAL_CODE = 0\n",
    "PEC_CODE = 1\n",
    "VOLT_CODE = 2"
   ]
  },
  {
   "cell_type": "code",
   "execution_count": null,
   "metadata": {},
   "outputs": [],
   "source": [
    "PEC_EPS = 1 - 1000j"
   ]
  },
  {
   "cell_type": "code",
   "execution_count": null,
   "metadata": {
    "Collapsed": "false"
   },
   "outputs": [],
   "source": [
    "def pTypeToCode(str):\n",
    "    if str == \"normal\":\n",
    "        return NORMAL_CODE\n",
    "    elif str == \"pec\":\n",
    "        return PEC_CODE\n",
    "    elif str == 'volt':\n",
    "        return VOLT_CODE"
   ]
  },
  {
   "cell_type": "code",
   "execution_count": null,
   "metadata": {
    "Collapsed": "false",
    "code_folding": [
     0
    ],
    "hidden": true,
    "run_control": {
     "frozen": false,
     "read_only": false
    }
   },
   "outputs": [],
   "source": [
    "class ESim:\n",
    "    pass"
   ]
  },
  {
   "cell_type": "code",
   "execution_count": null,
   "metadata": {
    "Collapsed": "false",
    "code_folding": [
     0
    ],
    "hidden": true,
    "run_control": {
     "frozen": false,
     "read_only": false
    }
   },
   "outputs": [],
   "source": [
    "def __init__(self, shape=(10, 10), bounds='zero', margin='auto'):\n",
    "    \"\"\" ESim is a simple 2D Finite Difference Frequency Domain Simulator \n",
    "    (FDFD) for quasi electro statics.\n",
    "    \n",
    "    It was primarily designed as a teaching tool for freshmen.\n",
    "    \n",
    "    Args:\n",
    "        shape (:tuple:`int`): The width (x) and height (y) in pixels of the \n",
    "            simulation sans any boundary that is added via `margin'.\n",
    "        bounds: One of the following:\n",
    "            'abs' : Pads domain with 'margin' and then adds v=0 boundary.\n",
    "            'per' : Periodic boundary.  Must match Left-Right or Bottom-Top.\n",
    "            'pec' : Perfect electric conductor at some floating potential.\n",
    "            'zero': Zero field boundary\n",
    "        margin (:`int`): The size of an added boundary layer on all sides for use\n",
    "                         with 'abs' boundary.\n",
    "\n",
    "    Attributes:\n",
    "        eps (:np.array:(`complex`)):  The permittivity field of the simulation.\n",
    "        source (:np.array:(`complex`)):  The sources of the simulation within\n",
    "        field (:np.array:(`complex`)):  The voltage field result of the simulation\n",
    "        \"\"\"\n",
    "    \n",
    "    self._NORMAL_CODE = 0\n",
    "    self._PEC_CODE = 1\n",
    "    self._VOLT_CODE = 2\n",
    "    \n",
    "    if margin=='auto':\n",
    "        self._margin = max(shape)//4\n",
    "    else:\n",
    "        self._margin = margin\n",
    "    margin = self._margin\n",
    "    self._bounds = bounds\n",
    "    self._shape = shape\n",
    "\n",
    "    m = BoundaryCodeToPadding(bounds, margin)\n",
    "    xSize, ySize = self._shape\n",
    "    \n",
    "    self._shapeFull = (m + xSize + m, m + ySize + m)\n",
    "    shapeFull = self._shapeFull\n",
    "\n",
    "    # The three vars below are all views of the same data block\n",
    "    self._fieldFull = np.zeros(shapeFull, np.complex)\n",
    "    self.field = self._fieldFull[m:(m+xSize), m:(m+ySize)]\n",
    "    self._fieldFull1D = self._fieldFull.ravel()\n",
    "\n",
    "    # The three vars below are all views of the same data block\n",
    "    self._sourceFull = np.zeros(shapeFull, np.complex)\n",
    "    self.source = self._sourceFull[m:(m+xSize), m:(m+ySize)]\n",
    "    self._sourceFull1D = self._sourceFull.ravel()\n",
    "    \n",
    "    # The three vars below are all views of the same data block.\n",
    "    # Normal: 0, field[x,y] == 0 : 1, d field[x,y]/du == 0 : 2\n",
    "    self._pTypeFull = np.full(shapeFull, 0, np.uint8)  \n",
    "    self._pType = self._pTypeFull[m:(m+xSize), m:(m+ySize)]\n",
    "    self._pTypeFull1D = self._pTypeFull.ravel()\n",
    "\n",
    "    # The three vars below are all views of the same data block\n",
    "    self._epsFull = np.full(shapeFull, 1., np.complex)  \n",
    "    self.eps = self._epsFull[m:(m+xSize), m:(m+ySize)]\n",
    "    self._epsFull1D = self._epsFull.ravel()\n",
    "\n",
    "    \n",
    "setattr(ESim, \"__init__\", __init__)"
   ]
  },
  {
   "cell_type": "code",
   "execution_count": null,
   "metadata": {},
   "outputs": [],
   "source": [
    "def BoundaryCodeToPadding(code, margin):\n",
    "    if code == 'abs':\n",
    "        return margin\n",
    "    elif code == 'per':\n",
    "        return 0\n",
    "    elif code == 'pec':\n",
    "        return 1\n",
    "    elif code == 'zero':\n",
    "        return 1"
   ]
  },
  {
   "cell_type": "code",
   "execution_count": null,
   "metadata": {
    "Collapsed": "false",
    "code_folding": [
     0
    ],
    "hidden": true,
    "run_control": {
     "frozen": false,
     "read_only": false
    }
   },
   "outputs": [],
   "source": [
    "def BuildSimBounds(self):\n",
    "    \"\"\"\n",
    "    Builds the margins of the simulation.\n",
    "    \n",
    "    The margins are built by padding the `eps` to `epsFull`.\n",
    "    Whatever geometry is one the edge will copied into the margin.\n",
    "    \n",
    "    It then adds an additional layer to terminate the simulation in \n",
    "    some way based on the bounds specified at instantiation.\n",
    "    \n",
    "    This should be called after all the changes to `eps` have been completed.\n",
    "    \"\"\"\n",
    "    pecEps = 1-1000j\n",
    "    margin = self._margin\n",
    "    m = BoundaryCodeToPadding(self._bounds, self._margin)\n",
    "    (xMax, yMax) = self._shapeFull\n",
    "    # Pad nIndex.  Note that we first create the array, then copy the data into\n",
    "    # the array to preserve the shared data between nIndex and nIndexFull.  Using\n",
    "    # the 'edge' keyword propagates waveguides and similar into the PML region to\n",
    "    # prevent weird reflections.\n",
    "    padded = np.pad(self.eps, ((m,m), (m,m)), 'edge')\n",
    "    self._epsFull[:] = padded[:]\n",
    "    def s(x):\n",
    "        return((c) * (x)**a)\n",
    "    padded = np.pad(self._pType, ((m,m), (m,m)), 'edge')\n",
    "    self._pTypeFull[:] = padded[:]\n",
    "    bounds = self._bounds\n",
    "    if bounds=='abs':\n",
    "        ring0 = indRing(0, self._shapeFull)\n",
    "        self._fieldFull1D[ring0] = 0j\n",
    "        self._pTypeFull1D[ring0] = VOLT_CODE\n",
    "    if bounds=='per':\n",
    "        pass\n",
    "    if bounds=='pec':\n",
    "        ring0 = indRing(0, self._shapeFull)\n",
    "        self._epsFull1D[ring0] = PEC_EPS\n",
    "    if bounds=='zero':\n",
    "        ring0 = indRing(0, self._shapeFull)\n",
    "        self._fieldFull1D[ring0] = 0j\n",
    "        self._pTypeFull1D[ring0] = VOLT_CODE\n",
    "\n",
    "setattr(ESim, \"BuildSimBounds\", BuildSimBounds)"
   ]
  },
  {
   "cell_type": "code",
   "execution_count": null,
   "metadata": {
    "Collapsed": "false"
   },
   "outputs": [],
   "source": [
    "def solve(self):\n",
    "    \"\"\"\n",
    "    Solves the M.X == B system for X, ie the fieldFull1D.\n",
    "    \"\"\"\n",
    "    X, code = lgmres(csc_matrix(self._M), self._B, atol=1e-6)\n",
    "    self._fieldFull1D[:] = X\n",
    "setattr(ESim, \"solve\", solve)"
   ]
  },
  {
   "cell_type": "markdown",
   "metadata": {
    "Collapsed": "false"
   },
   "source": [
    "### Indexing Functions"
   ]
  },
  {
   "cell_type": "code",
   "execution_count": null,
   "metadata": {
    "Collapsed": "false",
    "code_folding": [],
    "hidden": true,
    "run_control": {
     "frozen": false,
     "read_only": false
    }
   },
   "outputs": [],
   "source": [
    "@njit\n",
    "def indFull(xy, shapeFull):\n",
    "    \"\"\" Converts from indexing of \"full\" arrays to \"full1D\" arrays.\n",
    "    \n",
    "    For instance, i1D = Ind((x,y), (xLength, yLength)) will convert an index \n",
    "    such that [A]Full[i1D] and [A]Full[x, y]] address the same value, where \n",
    "    [A] is `field`, `nIndex`, `source`, etc.\n",
    "\n",
    "    It performs an identical function to \n",
    "    numpy.ravel_multi_index((y,x), (yMax, xMax), mode=('wrap', 'wrap'))\n",
    "\n",
    "    Args:\n",
    "        xy ( tuple:(int, int) ): The index in 2D, (x, y)\n",
    "           ( tuple:( np.array(int), np.array(ints) ): The indices in 2D, ([xs], [ys])\n",
    "        shapeFull (tuple: (int, int)): The second parameter.\n",
    "\n",
    "    Returns:\n",
    "        indices: The returned index/indices in 1D.\n",
    "\n",
    "    \"\"\"\n",
    "    (xMax, yMax) = shapeFull\n",
    "    (x, y) = xy\n",
    "    (xWrap, yWrap) = (x % xMax, y % yMax)\n",
    "    (i, j) = (yWrap, xWrap)\n",
    "    inds = yWrap + (xWrap * yMax)\n",
    "    \n",
    "#     inds = np.ravel_multi_index(array, (yMax, xMax), mode=('wrap','wrap'))\n",
    "    return inds"
   ]
  },
  {
   "cell_type": "code",
   "execution_count": null,
   "metadata": {
    "Collapsed": "false"
   },
   "outputs": [],
   "source": [
    "def ind(self, xy):\n",
    "    \"\"\"\n",
    "    This returns the full1D index of a location for a point (x,y) in the \n",
    "    primary domain (ie no margins).\n",
    "    xy = (3, 3)\n",
    "    xy = ([1,2,3], [10, 12, 14])\n",
    "    xy = ([1,2,3], 10)\n",
    "    xy = (1, [10, 12, 14])\n",
    "    \"\"\"\n",
    "    x,y = xy\n",
    "    m = BoundaryCodeToPadding(self._bounds, self._margin)\n",
    "    return indFull((x+m, y+m), self._shapeFull)\n",
    "setattr(ESim, \"ind\", ind)"
   ]
  },
  {
   "cell_type": "code",
   "execution_count": null,
   "metadata": {},
   "outputs": [],
   "source": [
    "def indRing(i, shapeFull):\n",
    "    \"\"\"\n",
    "    Gives the full1D indices for an outer ring of the simulation.  For\n",
    "    instance `indRing(0, shapeFull)` would be the indices at the outside\n",
    "    edge of the simulation and `indRing(1, shapeFull)` would be the indices\n",
    "    one pixel inside of those.\n",
    "    \n",
    "    This is useful handling the bounds of the simulation.\n",
    "    \"\"\"\n",
    "    xMax, yMax = shapeFull\n",
    "    l = []\n",
    "    for x in range(i, xMax-i):\n",
    "        cT = (x, i)\n",
    "        cB = (x, yMax-i-1)\n",
    "        l.append(indFull(cT, shapeFull))\n",
    "        l.append(indFull(cB, shapeFull))\n",
    "    for y in range(i+1, yMax-i-1):\n",
    "        cL = (i, y)\n",
    "        cR = (xMax-i-1, y)\n",
    "        l.append(indFull(cL, shapeFull))\n",
    "        l.append(indFull(cR, shapeFull))\n",
    "    return np.array(l)"
   ]
  },
  {
   "cell_type": "markdown",
   "metadata": {
    "Collapsed": "false"
   },
   "source": [
    "### Optimized Equation Generator"
   ]
  },
  {
   "cell_type": "markdown",
   "metadata": {},
   "source": [
    "The equation that is being solved is:\n",
    "$$-\\nabla \\cdot (\\epsilon \\nabla V) = \\rho$$\n",
    "where we employ a discretization such that the voltage (electric potential) is a point at the center of each pixel with permittivity $\\epsilon$.  We use this equation to relate nearest neighbors.  Let us consider the pixel in question to be at point $(0,0)$ with voltage $V_{(0,0)}$.\n",
    "\n",
    "Let us begin by evaluating $D_x$ within pixel $(0,0)$ on the right side of the center point pointing toward $(1,0)$.  In order to lend some insight into this, let us consider $V_{(0,0)}$ and $V_{(1,0)}$ as the classic 1D problem of the parallel plate capacitor.  For the sake of simplicity of notation, let us denote $(0,0) \\rightarrow a$ and $(1,0) \\rightarrow b$.  Let us call the distance between the plates to be $d$.\n",
    "\n",
    "It follows that we can perform a line integral from one plate to the other to obtain a voltage drop.\n",
    "$$(d/2)E_a + (d/2)E_b = -(V_a - V_b)$$\n",
    "We also know that normal $D$ is continuous so\n",
    "$$D_a = \\epsilon_a E_a = \\epsilon_b E_b$$\n",
    "\n",
    "After performing some algebra, we can conclude that\n",
    "$$D_{a,\\mathrm{right}} = \\epsilon_a E_{a,\\mathrm{right}} = \\frac{2 \\epsilon_a \\epsilon_b (V_b - V_a)}{d(\\epsilon_b + \\epsilon_a)}$$\n",
    "\n",
    "The concept behind $-\\nabla \\cdot (\\epsilon \\nabla V) = \\rho$ is that the divergence of $D$ is equal to the charge contained therein.  Put another way:\n",
    "$$\\nabla \\cdot D_a = \\rho_a \\\\\n",
    "D_{a,\\mathrm{right}} + D_{a,\\mathrm{up}} + D_{a,\\mathrm{left}} + D_{a,\\mathrm{down}} = \\rho_a\n",
    "$$\n",
    "This equation can be evaluated pixel-by-pixel based on a given charge density field $\\mathbf{\\rho}$ and permittivity field $\\mathbf{\\epsilon}$ to render a linear system of equations for an unknown voltage field $\\mathbf{V}$.  For fields that are $n\\times m$, this will yield $n\\times m$ equations with $n\\times m$ unknowns.\n",
    "\n",
    "Note that within this work we leave open the posibility that $\\epsilon$ is complex and that the equation being solved is not for electrostatics, but rather electro-quasistatics.  Within the $e^{j \\omega t}$ convetion, the $\\epsilon = \\epsilon_r - j\\frac{\\sigma}{\\omega}$.  A good conductor could be described as $\\epsilon_\\mathrm{PEC} = 1 - 1000j$."
   ]
  },
  {
   "cell_type": "markdown",
   "metadata": {},
   "source": [
    "The following functions have been organized so that they can be optimized using Numba.  Only the top level function makes use of OOP and all of the inner loop functions are purely numeric and use only basic Numpy and Python objects."
   ]
  },
  {
   "cell_type": "code",
   "execution_count": null,
   "metadata": {
    "Collapsed": "false",
    "code_folding": [
     0
    ],
    "hidden": true,
    "run_control": {
     "frozen": false,
     "read_only": false
    }
   },
   "outputs": [],
   "source": [
    "def buildSparsePhysicsEqs(self):\n",
    "    \"\"\"\n",
    "    Builds M and B of the matrix system M.X == B, where \n",
    "        X is the as of yet unknown fieldsFull1D\n",
    "        B is essentially the sourcesFull1D\n",
    "        and M is the relationship capturing the physics of the Helmholtz\n",
    "        equations including the pixType optical index.\n",
    "    \"\"\"\n",
    "    n = self._fieldFull.size\n",
    "    \n",
    "    rslt = allEqGen(self._shapeFull, self._epsFull1D, self._pTypeFull1D, \n",
    "                    self._sourceFull1D, self._fieldFull1D)\n",
    "    rList, cList, vList, bList = rslt\n",
    "    coo = sp.coo_matrix((vList, (rList, cList)), (n, n))\n",
    "    self._M = coo\n",
    "    self._B = np.array(bList)\n",
    "setattr(ESim, \"buildSparsePhysicsEqs\", buildSparsePhysicsEqs)"
   ]
  },
  {
   "cell_type": "code",
   "execution_count": null,
   "metadata": {
    "Collapsed": "false",
    "code_folding": [
     1
    ],
    "hidden": true,
    "run_control": {
     "frozen": false,
     "read_only": false
    }
   },
   "outputs": [],
   "source": [
    "@njit\n",
    "def allEqGen(shapeFull, epsFull1D, pTypeFull1D, sourceFull1D, fieldFull1D):\n",
    "    \"\"\"\n",
    "    \"\"\"\n",
    "    (xMax, yMax) = shapeFull\n",
    "    nUnknowns = xMax*yMax\n",
    "    rowCoeffs = []\n",
    "    colCoeffs = []\n",
    "    valCoeffs = []\n",
    "    bCoeffs = []\n",
    "    for x in range(xMax):\n",
    "        for y in range(yMax):\n",
    "            xy = (x, y)\n",
    "            rslt = makeEq(xy, shapeFull, epsFull1D, pTypeFull1D, \n",
    "                            sourceFull1D, fieldFull1D)\n",
    "            (newRowArray, newColArray, newCoeffArray, newBArray) = rslt\n",
    "            rowCoeffs.extend(newRowArray)\n",
    "            colCoeffs.extend(newColArray)\n",
    "            valCoeffs.extend(newCoeffArray)\n",
    "            bCoeffs.extend(newBArray)\n",
    "    return (rowCoeffs, colCoeffs, valCoeffs, bCoeffs)"
   ]
  },
  {
   "cell_type": "code",
   "execution_count": null,
   "metadata": {
    "Collapsed": "false",
    "code_folding": [
     1
    ],
    "hidden": true,
    "run_control": {
     "frozen": false,
     "read_only": false
    }
   },
   "outputs": [],
   "source": [
    "@njit\n",
    "def makeEq(xy, shapeFull, epsFull1D, pTypeFull1D, sourceFull1D, fieldFull1D):\n",
    "    \"\"\"\n",
    "    \"\"\"\n",
    "    (x, y) = xy\n",
    "    d = (1. + 0.j)\n",
    "    zeroC = (0. + 0.j)\n",
    "    \n",
    "    # Calculate Indices\n",
    "    xs = np.array([x, x-1, x+1,   x,   x])\n",
    "    ys = np.array([y,   y,   y, y-1, y+1])\n",
    "    inds = indFull((xs, ys), shapeFull)\n",
    "    (i00, iN0, iP0, i0N, i0P) = inds\n",
    "    eqNum = i00\n",
    "\n",
    "    [ p00,  pN0,  pP0,  p0N,  p0P] = pTypeFull1D[inds]\n",
    "    \n",
    "    s00 = sourceFull1D[i00]\n",
    "    f00 = fieldFull1D[i00]\n",
    "    [ e00,  eN0,  eP0,  e0N,  e0P] = epsFull1D[inds]\n",
    "    \n",
    "    rowArray =   (eqNum, eqNum, eqNum, eqNum, eqNum)\n",
    "    colArray =   (  i00,   iN0,   iP0,   i0N,   i0P)\n",
    "    coeffArray = (zeroC, zeroC, zeroC, zeroC, zeroC)\n",
    "    \n",
    "    if p00 == NORMAL_CODE: # is PEC\n",
    "        cN0 = 2*e00*eN0/(d*(e00+eN0))\n",
    "        cP0 = 2*e00*eP0/(d*(e00+eP0))\n",
    "        c0N = 2*e00*e0N/(d*(e00+e0N))\n",
    "        c0P = 2*e00*e0P/(d*(e00+e0P))\n",
    "        \n",
    "        coeffArray = (-cN0 - cP0 - c0N - c0P, \n",
    "                      cN0,\n",
    "                      cP0,\n",
    "                      c0N,\n",
    "                      c0P)\n",
    "        bArray = (-s00,)\n",
    "    elif p00 == VOLT_CODE: # is Voltage\n",
    "        coeffArray = (1, 0, 0, 0, 0)\n",
    "        bArray = (f00,)\n",
    "    elif p00 == PEC_CODE: # is PEC\n",
    "        coeffArray = (100+0j, zeroC, zeroC, zeroC, zeroC)\n",
    "        bArray = (zeroC,)\n",
    "    else:\n",
    "        coeffArray = (1, 0, 0, 0, 0)\n",
    "        bArray = (99,)\n",
    "\n",
    "    return (rowArray, colArray, coeffArray, bArray)"
   ]
  },
  {
   "cell_type": "code",
   "execution_count": null,
   "metadata": {},
   "outputs": [],
   "source": [
    "def computeChargeDistribution(self):\n",
    "    \"\"\"\n",
    "    Examines divergence of D as if the simulation is only eps=1.  Puts this result back into the `source` array for plotting.\n",
    "    \"\"\"\n",
    "    self._sourceFull[:] = convolve2d(self._fieldFull, [[0,-1,0],[-1,4,-1],[0,-1,0]], boundary='wrap', mode='same')\n",
    "setattr(ESim, \"computeChargeDistribution\", computeChargeDistribution)"
   ]
  },
  {
   "cell_type": "markdown",
   "metadata": {
    "Collapsed": "false",
    "heading_collapsed": true
   },
   "source": [
    "### Interface"
   ]
  },
  {
   "cell_type": "markdown",
   "metadata": {
    "Collapsed": "true"
   },
   "source": [
    "#### Source"
   ]
  },
  {
   "cell_type": "code",
   "execution_count": null,
   "metadata": {
    "Collapsed": "false",
    "hidden": true,
    "run_control": {
     "frozen": false,
     "read_only": false
    }
   },
   "outputs": [],
   "source": [
    "def setSource(self, xy, q):\n",
    "    \"\"\"\n",
    "    Places charge `q` at location xy.  \n",
    "    \n",
    "    Note that `q` could be complex denoting phase.\n",
    "    \n",
    "    `xy` could be of the forms:\n",
    "    xy = (3, 3)\n",
    "    xy = ([1,2,3], [10, 12, 14])\n",
    "    xy = ([1,2,3], 10)\n",
    "    xy = (1, [10, 12, 14])\n",
    "    \"\"\"\n",
    "    (xs, ys) = xy\n",
    "    ids = self.ind((xs,ys))\n",
    "    self._sourceFull1D[ids] = q\n",
    "setattr(ESim, 'setSource', setSource)"
   ]
  },
  {
   "cell_type": "code",
   "execution_count": null,
   "metadata": {},
   "outputs": [],
   "source": [
    "def setSourcePolygon(self, mPoly, q):\n",
    "    \"\"\"\n",
    "    Places charge `q` on all pixels within polygon(s).\n",
    "    \n",
    "    mPoly: a Shapely Polygon or MultiPolygon\n",
    "\n",
    "    Note that `q` could be complex denoting phase.\n",
    "    \n",
    "    For instance\n",
    "    ```\n",
    "    poly = Shapely.geometry.Point(50,50).buffer(5)\n",
    "    sim.setSourcePolygon(poly, -2)\n",
    "    ```\n",
    "    will place a ball with radius 5 at (x,y) = (50,50)\n",
    "    wherein each pixel contains charge -2.\n",
    "    \"\"\"\n",
    "    if isinstance(mPoly, Polygon):\n",
    "        mPoly = MultiPolygon([mPoly])\n",
    "    (nx, ny) = self._shape\n",
    "    for x in range(nx):\n",
    "        for y in range(ny):\n",
    "            pt1 = Point(x,y)\n",
    "            if mPoly.intersects(pt1):\n",
    "                self.source[x,y] = q    \n",
    "setattr(ESim, 'setSourcePolygon', setSourcePolygon)"
   ]
  },
  {
   "cell_type": "markdown",
   "metadata": {
    "Collapsed": "true"
   },
   "source": [
    "#### Epsilon"
   ]
  },
  {
   "cell_type": "code",
   "execution_count": null,
   "metadata": {
    "Collapsed": "false",
    "hidden": true,
    "run_control": {
     "frozen": false,
     "read_only": false
    }
   },
   "outputs": [],
   "source": [
    "def setEps(self, xy, eps):\n",
    "    \"\"\"\n",
    "    Sets the permittivity of a pixel at location xy = (x, y) to `eps`.\n",
    "        \n",
    "    Note that `eps` could be complex denoting phase conductivity.\n",
    "    \n",
    "    `xy` could be of the forms:\n",
    "    xy = (3, 3)\n",
    "    xy = ([1,2,3], [10, 12, 14])\n",
    "    xy = ([1,2,3], 10)\n",
    "    xy = (1, [10, 12, 14])\n",
    "    \"\"\"\n",
    "    (xs, ys) = xy\n",
    "    ids = self.ind((xs,ys))\n",
    "    self._epsFull1D[ids] = eps\n",
    "setattr(ESim, 'setEps', setEps)"
   ]
  },
  {
   "cell_type": "code",
   "execution_count": null,
   "metadata": {},
   "outputs": [],
   "source": [
    "def setEpsPolygon(self, mPoly, eps):\n",
    "    \"\"\"\n",
    "    Sets the permittivity of all pixels within mPoly to `eps`.\n",
    "    \n",
    "    mPoly: a Shapely Polygon or MultiPolygon\n",
    "\n",
    "    Note that `q` could be complex denoting phase.\n",
    "    \n",
    "    For instance\n",
    "    ```\n",
    "    poly = Shapely.geometry.Point(50,50).buffer(5)\n",
    "    sim.setEpsPolygon(poly, 2.0)\n",
    "    ```\n",
    "    will place a ball with radius 5 at (x,y) = (50,50)\n",
    "    wherein each pixel has permittivity of 2.0.\n",
    "    \"\"\"\n",
    "    if isinstance(mPoly, Polygon):\n",
    "        mPoly = MultiPolygon([mPoly])\n",
    "    (nx, ny) = self._shape\n",
    "    for x in range(nx):\n",
    "        for y in range(ny):\n",
    "            pt1 = Point(x,y)\n",
    "            if mPoly.intersects(pt1):\n",
    "                self.eps[x,y] = eps    \n",
    "setattr(ESim, 'setEpsPolygon', setEpsPolygon)"
   ]
  },
  {
   "cell_type": "markdown",
   "metadata": {},
   "source": [
    "#### PEC"
   ]
  },
  {
   "cell_type": "code",
   "execution_count": null,
   "metadata": {
    "Collapsed": "false",
    "hidden": true,
    "run_control": {
     "frozen": false,
     "read_only": false
    }
   },
   "outputs": [],
   "source": [
    "def setPEC(self, xy):\n",
    "    \"\"\"\n",
    "    Sets the permittivity of a pixel at location xy = (x, y) to that of a very good conductor.\n",
    "    \n",
    "    `xy` could be of the forms:\n",
    "    xy = (3, 3)\n",
    "    xy = ([1,2,3], [10, 12, 14])\n",
    "    xy = ([1,2,3], 10)\n",
    "    xy = (1, [10, 12, 14])\n",
    "    \"\"\"\n",
    "    (xs, ys) = xy\n",
    "    ids = self.ind((xs,ys))\n",
    "    self._epsFull1D[ids] = PEC_EPS\n",
    "setattr(ESim, 'setPEC', setPEC)"
   ]
  },
  {
   "cell_type": "code",
   "execution_count": null,
   "metadata": {},
   "outputs": [],
   "source": [
    "def setPECPolygon(self, mPoly):\n",
    "    \"\"\"\n",
    "    Sets the permittivity of all pixels within mPoly to `eps`.\n",
    "    \n",
    "    mPoly: a Shapely Polygon or MultiPolygon\n",
    "\n",
    "    Note that `q` could be complex denoting phase.\n",
    "    \n",
    "    For instance\n",
    "    ```\n",
    "    poly = Shapely.geometry.Point(50,50).buffer(5)\n",
    "    sim.setEpsPolygon(poly, 2.0)\n",
    "    ```\n",
    "    will place a ball with radius 5 at (x,y) = (50,50)\n",
    "    wherein each pixel has permittivity of 2.0.\n",
    "    \"\"\"\n",
    "    if isinstance(mPoly, Polygon):\n",
    "        mPoly = MultiPolygon([mPoly])\n",
    "    (nx, ny) = self._shape\n",
    "    for x in range(nx):\n",
    "        for y in range(ny):\n",
    "            pt1 = Point(x,y)\n",
    "            if mPoly.intersects(pt1):\n",
    "                self.eps[x,y] = PEC_EPS    \n",
    "setattr(ESim, 'setPECPolygon', setPECPolygon)"
   ]
  },
  {
   "cell_type": "markdown",
   "metadata": {},
   "source": [
    "#### Voltage"
   ]
  },
  {
   "cell_type": "code",
   "execution_count": null,
   "metadata": {
    "Collapsed": "false",
    "hidden": true,
    "run_control": {
     "frozen": false,
     "read_only": false
    }
   },
   "outputs": [],
   "source": [
    "def setVoltage(self, xy, v):\n",
    "    \"\"\"\n",
    "    Fixes the electric potential (voltage) of a pixel at location xy = (x, y) to `v`.\n",
    "    \n",
    "    Note that `v` could be complex, denoting phase.\n",
    "    \n",
    "    `xy` could be of the forms:\n",
    "    xy = (3, 3)\n",
    "    xy = ([1,2,3], [10, 12, 14])\n",
    "    xy = ([1,2,3], 10)\n",
    "    xy = (1, [10, 12, 14])\n",
    "    \"\"\"\n",
    "    (xs, ys) = xy\n",
    "    ids = self.ind((xs,ys))\n",
    "    self._fieldFull1D[ids] = v\n",
    "    self._pTypeFull1D[ids] = VOLT_CODE\n",
    "setattr(ESim, 'setVoltage', setVoltage)"
   ]
  },
  {
   "cell_type": "code",
   "execution_count": null,
   "metadata": {},
   "outputs": [],
   "source": [
    "def setVoltagePolygon(self, mPoly, v):\n",
    "    \"\"\"\n",
    "    Fixes the electric potential (voltage) of all pixels within mPoly to `v`.\n",
    "    \n",
    "    mPoly: a Shapely Polygon or MultiPolygon\n",
    "\n",
    "    Note that `v` could be complex denoting phase.\n",
    "    \n",
    "    For instance\n",
    "    ```\n",
    "    poly = Shapely.geometry.Point(50,50).buffer(5)\n",
    "    sim.setVoltagePolygon(poly, 5)\n",
    "    ```\n",
    "    will place a ball with radius 5 at (x,y) = (50,50)\n",
    "    wherein each pixel will be fixed to 5V.\n",
    "    \"\"\"\n",
    "    if isinstance(mPoly, Polygon):\n",
    "        mPoly = MultiPolygon([mPoly])\n",
    "    (nx, ny) = self._shape\n",
    "    for x in range(nx):\n",
    "        for y in range(ny):\n",
    "            pt1 = Point(x,y)\n",
    "            if mPoly.intersects(pt1):\n",
    "                self.field[x,y] = v\n",
    "                self._pType[x,y] = VOLT_CODE\n",
    "setattr(ESim, 'setVoltagePolygon', setVoltagePolygon)"
   ]
  },
  {
   "cell_type": "markdown",
   "metadata": {
    "Collapsed": "true"
   },
   "source": [
    "### Visualization"
   ]
  },
  {
   "cell_type": "code",
   "execution_count": null,
   "metadata": {
    "Collapsed": "false"
   },
   "outputs": [],
   "source": [
    "def add_margin(pil_img, m, color):\n",
    "    width, height = pil_img.size\n",
    "    new_width = width + 2*m\n",
    "    new_height = height + 2*m\n",
    "    result = Image.new(pil_img.mode, (new_width, new_height), color)\n",
    "    result.paste(pil_img, (m, m))\n",
    "    return result"
   ]
  },
  {
   "cell_type": "code",
   "execution_count": null,
   "metadata": {},
   "outputs": [],
   "source": [
    "def visualizeFieldBokeh(self, imageWidth=800, maxRangeV=\"auto\", func=\"real\", purpose=\"display\"):\n",
    "    if maxRangeV==\"auto\":\n",
    "        maxR = np.max(np.abs(self.field))\n",
    "        if maxR == 0:\n",
    "            maxR = 1\n",
    "    else:\n",
    "        maxR = np.abs(maxRangeV)\n",
    "\n",
    "    m = BoundaryCodeToPadding(self._bounds, self._margin)\n",
    "    \n",
    "    field = self._fieldFull\n",
    "    fieldT = np.swapaxes(field, 0, 1)[::-1]\n",
    "\n",
    "    if func==\"real\":\n",
    "        pixArray = colorizeComplexArray(\n",
    "            fieldT+0.00001j, maxRad=maxR, centerColor='black')\n",
    "    elif func==\"abs\":\n",
    "        pixArray = colorizeArray(fieldT, \n",
    "                                 min_max=(0, maxR),\n",
    "                                 colors=([0, 0, 0], [255, 0, 0],\n",
    "                                         [255, 255, 255]),\n",
    "                                 preFunc=lambda x: np.abs(x))\n",
    "    else:\n",
    "        raise Exception(\"visualizeField: 'func' should be either 'real' or 'abs'\")\n",
    "        \n",
    "    alphaArray = np.full_like(pixArray[:,:,0], fill_value=255)\n",
    "    imageDataWithAlpha = np.concatenate([pixArray, np.atleast_3d(alphaArray)], axis=2)[::-1]\n",
    "    \n",
    "    dw, dh = self._shape\n",
    "    dwF, dhF = self._shapeFull\n",
    "    pw = int(round(imageWidth + 57))\n",
    "    ph = int(round(pw*dh/dw + 31))\n",
    "    TOOLTIPS = [(\"(x,y)\", \"($x{1.}, $y{1.})\")]\n",
    "    p = figure(x_range=(-0.5, dw-0.5), y_range=(-.5, dh-0.5), plot_width=pw, plot_height=ph, tools=\"pan,wheel_zoom,reset,save\", tooltips=TOOLTIPS)\n",
    "    p.image_rgba(image=[imageDataWithAlpha], x=-m-0.5, y=-m-0.5, dw=dwF, dh=dhF)\n",
    "    p.line(x=[0-0.5,dw-0.5,dw-0.5,-0.5,-0.5], y=[-0.5,-0.5,dh-0.5,dh-0.5,-0.5], color=\"red\", line_width=1)\n",
    "    if purpose == 'display':\n",
    "        show(p)\n",
    "    else:\n",
    "        return p\n",
    "setattr(ESim, 'visualizeFieldBokeh', visualizeFieldBokeh)"
   ]
  },
  {
   "cell_type": "code",
   "execution_count": null,
   "metadata": {},
   "outputs": [],
   "source": [
    "def visualizeSimBokeh(self, imageWidth=800, maxRangeEps=\"auto\", maxRangeQ=\"auto\", purpose=\"display\"):\n",
    "    # PEC/PMC: 1,  Normal: 0\n",
    "    eps = np.swapaxes(self._epsFull, 0, 1)[::-1]\n",
    "    source = np.swapaxes(self._sourceFull, 0, 1)[::-1]\n",
    "    pType = np.swapaxes(self._pTypeFull, 0, 1)[::-1]\n",
    "    \n",
    "    m = BoundaryCodeToPadding(self._bounds, self._margin)\n",
    "        \n",
    "    PECIndex = (pType == PEC_CODE).astype(np.uint8)\n",
    "\n",
    "    if maxRangeEps==\"auto\":\n",
    "        maxNR = np.max(np.abs(eps)*(~(eps==PEC_EPS))) - 0.\n",
    "        # maxNR = np.max(np.abs(eps)) - 0.\n",
    "    else:\n",
    "        maxNR = maxRangeEps - 0.\n",
    "\n",
    "    if maxRangeQ==\"auto\":\n",
    "        maxSR = np.max(np.abs(source))\n",
    "        if maxSR == 0:\n",
    "            maxSR = 1\n",
    "    else:\n",
    "        maxSR = maxRangeQ\n",
    "\n",
    "    chi = (eps - (1 + 1j*10**-6))\n",
    "    rotScal = np.exp(1j*2*np.pi*(3/6))\n",
    "    epsColor3D = colorizeComplexArray(chi*rotScal, maxRad=maxNR, centerColor='black')\n",
    "\n",
    "    PECColor3D = np.array([[(  0,  0,  255)]], dtype=np.uint8)\n",
    "\n",
    "    choiceArray = (np.zeros_like(eps,dtype=np.uint8) + PECIndex + 2*0 + 3*0)\n",
    "    \n",
    "    sourceMask = (source != 0).astype(np.uint8)\n",
    "    sourceColor3D = colorizeComplexArray(source, maxRad=maxSR, centerColor='black')\n",
    "    choiceArray = choiceArray*(1-sourceMask) + 3*sourceMask\n",
    "\n",
    "    epsMask = np.atleast_3d(choiceArray == 0)\n",
    "    PECMask = np.atleast_3d(choiceArray == 1)\n",
    "    sourceMask = np.atleast_3d(choiceArray == 3)\n",
    "    pixArray = epsMask*epsColor3D + PECMask*PECColor3D + sourceMask*sourceColor3D\n",
    "    \n",
    "    alphaArray = np.full_like(pixArray[:,:,0], fill_value=255)\n",
    "    imageDataWithAlpha = np.concatenate([pixArray, np.atleast_3d(alphaArray)], axis=2)[::-1]\n",
    "    \n",
    "    dw, dh = self._shape\n",
    "    dwF, dhF = self._shapeFull\n",
    "    pw = int(round(imageWidth + 57))\n",
    "    ph = int(round(pw*dh/dw - 25))\n",
    "    TOOLTIPS = [(\"(x,y)\", \"($x{1.}, $y{1.})\")]\n",
    "    p = figure(x_range=(-0.5, dw-0.5), y_range=(-.5, dh-0.5), plot_width=pw, plot_height=ph, tools=\"pan,wheel_zoom,reset,save\", tooltips=TOOLTIPS)\n",
    "    p.image_rgba(image=[imageDataWithAlpha], x=-m-0.5, y=-m-0.5, dw=dwF, dh=dhF)\n",
    "    p.line(x=[0-0.5,dw-0.5,dw-0.5,-0.5,-0.5], y=[-0.5,-0.5,dh-0.5,dh-0.5,-0.5], color=\"gray\", line_width=1, line_dash='dotted')\n",
    "    if purpose == 'display':\n",
    "        show(p)\n",
    "    else:\n",
    "        return p\n",
    "setattr(ESim, 'visualizeSimBokeh', visualizeSimBokeh)"
   ]
  },
  {
   "cell_type": "code",
   "execution_count": null,
   "metadata": {},
   "outputs": [],
   "source": [
    "def visualizeAllBokeh(self, func=\"real\", maxRangeV='auto', maxRangeQ='auto', maxRangeEps='auto'):\n",
    "    p1 = self.visualizeSimBokeh(purpose='value', maxRangeQ=maxRangeQ, maxRangeEps=maxRangeEps)\n",
    "    p2 = self.visualizeFieldBokeh(func=func, purpose='value', maxRangeV=maxRangeV)\n",
    "    p2.x_range = p1.x_range\n",
    "    p2.y_range = p1.y_range\n",
    "    dw, dh = self._shape\n",
    "    pAll = gridplot([[p1,p2]], plot_width=600 + 57, plot_height=int((dh/dw)*600+57))\n",
    "    show(pAll)\n",
    "setattr(ESim, 'visualizeAllBokeh', visualizeAllBokeh)"
   ]
  },
  {
   "cell_type": "code",
   "execution_count": null,
   "metadata": {
    "Collapsed": "false",
    "code_folding": [
     0
    ],
    "run_control": {
     "frozen": false,
     "read_only": false
    }
   },
   "outputs": [],
   "source": [
    "def animateFields(self, maxRangeV=\"auto\", domain=\"interest\"):\n",
    "    if domain==\"interest\":\n",
    "        fields = self._field\n",
    "        maxX, maxY = self._shape\n",
    "    elif domain==\"full\":\n",
    "        fields = self._fieldFull\n",
    "        maxX, maxY = self._shapeFull\n",
    "    \n",
    "    fig = plt.figure()\n",
    "    ax = plt.axes(xlim=(0-0.5, maxX-0.5), ylim=(0-0.5, maxY-0.5))\n",
    "    ax.axis('off')\n",
    "\n",
    "    if maxRangeV==\"auto\":\n",
    "        maxR = np.max(np.abs(fields))\n",
    "    else:\n",
    "        maxR = maxRangeV\n",
    "\n",
    "    aC=np.swapaxes(fields, 0, 1)\n",
    "    pixArray = colorizeComplexArray(aC, maxRad=maxR, centerColor='black')\n",
    "    im = plt.imshow(pixArray,interpolation='none',)\n",
    "    # initialization function: plot the background of each frame\n",
    "    def init():\n",
    "        pixArray = colorizeComplexArray(np.real(aC)+0.001j, maxRad=maxR, centerColor='black')\n",
    "        \n",
    "        im.set_data(pixArray)\n",
    "        return im\n",
    "\n",
    "    # animation function.  This is called sequentially\n",
    "    def animate(i):\n",
    "        phi = 2*pi*i/20\n",
    "        pixArray = colorizeComplexArray(np.real(np.exp(-1j*phi)*aC)+0.001j, maxRad=maxR, centerColor='black')\n",
    "        im.set_data(pixArray)\n",
    "        return im\n",
    "\n",
    "    ani = matplotlib.animation.FuncAnimation(fig, animate, frames=20)\n",
    "    return HTML(ani.to_jshtml())\n",
    "setattr(ESim, 'animateFields', animateFields)"
   ]
  },
  {
   "cell_type": "code",
   "execution_count": null,
   "metadata": {
    "Collapsed": "false"
   },
   "outputs": [],
   "source": []
  }
 ],
 "metadata": {
  "anaconda-cloud": {},
  "kernelspec": {
   "display_name": "Python 3",
   "language": "python",
   "name": "python3"
  },
  "language_info": {
   "codemirror_mode": {
    "name": "ipython",
    "version": 3
   },
   "file_extension": ".py",
   "mimetype": "text/x-python",
   "name": "python",
   "nbconvert_exporter": "python",
   "pygments_lexer": "ipython3",
   "version": "3.7.4"
  },
  "latex_envs": {
   "LaTeX_envs_menu_present": true,
   "autoclose": false,
   "autocomplete": true,
   "bibliofile": "biblio.bib",
   "cite_by": "apalike",
   "current_citInitial": 1,
   "eqLabelWithNumbers": true,
   "eqNumInitial": 0,
   "hotkeys": {
    "equation": "Ctrl-E",
    "itemize": "Ctrl-I"
   },
   "labels_anchors": false,
   "latex_user_defs": false,
   "report_style_numbering": false,
   "user_envs_cfg": false
  },
  "toc-autonumbering": true,
  "toc-showmarkdowntxt": false,
  "varInspector": {
   "cols": {
    "lenName": 16,
    "lenType": 16,
    "lenVar": 40
   },
   "kernels_config": {
    "python": {
     "delete_cmd_postfix": "",
     "delete_cmd_prefix": "del ",
     "library": "var_list.py",
     "varRefreshCmd": "print(var_dic_list())"
    },
    "r": {
     "delete_cmd_postfix": ") ",
     "delete_cmd_prefix": "rm(",
     "library": "var_list.r",
     "varRefreshCmd": "cat(var_dic_list()) "
    }
   },
   "oldHeight": 122,
   "position": {
    "height": "634px",
    "left": "1550px",
    "right": "20px",
    "top": "120px",
    "width": "351px"
   },
   "types_to_exclude": [
    "module",
    "function",
    "builtin_function_or_method",
    "instance",
    "_Feature"
   ],
   "varInspector_section_display": "block",
   "window_display": false
  }
 },
 "nbformat": 4,
 "nbformat_minor": 4
}
