{
 "cells": [
  {
   "cell_type": "code",
   "execution_count": null,
   "metadata": {},
   "outputs": [],
   "source": [
    "%run \"./Helmholtz.ipynb\""
   ]
  },
  {
   "cell_type": "code",
   "execution_count": null,
   "metadata": {},
   "outputs": [],
   "source": [
    "from math import *\n",
    "import numpy as np\n",
    "from numpy import sin, cos, exp"
   ]
  },
  {
   "cell_type": "code",
   "execution_count": null,
   "metadata": {},
   "outputs": [],
   "source": [
    "J = 1j"
   ]
  },
  {
   "cell_type": "markdown",
   "metadata": {},
   "source": [
    "# Simple Example"
   ]
  },
  {
   "cell_type": "markdown",
   "metadata": {},
   "source": [
    "In the example below, we create a simulation which is 100w x 100h units in shape.  The wavelength within this is 15 units.\n",
    "We then create two sources.  The first is at x,y = 20,50 with an amplitude of 2 and a phase of -45 degrees. The second is at x,y = 80,50 with an amplitude of 1.5 and a phase of +45 degrees."
   ]
  },
  {
   "cell_type": "markdown",
   "metadata": {},
   "source": [
    "The line below will create the simulation object."
   ]
  },
  {
   "cell_type": "code",
   "execution_count": null,
   "metadata": {},
   "outputs": [],
   "source": [
    "sim = EMSim(shape=(100,100), WL0=15)"
   ]
  },
  {
   "cell_type": "markdown",
   "metadata": {},
   "source": [
    "Next we add two sources to the simulation."
   ]
  },
  {
   "cell_type": "code",
   "execution_count": null,
   "metadata": {},
   "outputs": [],
   "source": [
    "sim.setSource((20,50), 2*exp(-J*2*pi*-45/360))\n",
    "sim.setSource((80,50), 1.5*exp(-J*2*pi*+45/360))"
   ]
  },
  {
   "cell_type": "markdown",
   "metadata": {},
   "source": [
    "The line `sim.BuildSimBounds()` belwo creates the simulation bounds.  We must always do this **after** all of the geometry has been constructed as it will attempt to take into account structures at the edges.\n",
    "\n",
    "You can use `sim.visualizeSimBokeh()` to create a picture of your simulation.  You can use your mouse wheel to zoom and the pan tool to explore it.  The parts within the gray dashed rectangle are the parts which are considered part of the simulation.  The parts outside were created by `BuildSimBounds()` in order to simulate absorbers and other boundary conditions.  The mouse tool-tip will tell you where your cursor is.  This can also be useful for verifying your design.\n",
    "\n",
    "Visualizing the simulation is optional, but can be useful in order to make sure you have everything in the right spot prior to doing the relatively time consuming solve step."
   ]
  },
  {
   "cell_type": "code",
   "execution_count": null,
   "metadata": {},
   "outputs": [],
   "source": [
    "sim.BuildSimBounds()\n",
    "sim.visualizeSimBokeh(imageWidth=300)  # <-- Optional."
   ]
  },
  {
   "cell_type": "markdown",
   "metadata": {},
   "source": [
    "The lines below will build the system of equations to be solved and then solve them.  They must always be run together."
   ]
  },
  {
   "cell_type": "code",
   "execution_count": null,
   "metadata": {},
   "outputs": [],
   "source": [
    "sim.buildSparsePhysicsEqs()\n",
    "sim.solve()"
   ]
  },
  {
   "cell_type": "markdown",
   "metadata": {},
   "source": [
    "Finally, we can visualize the simulation with the results.  In the first pair of plots, we see our simulation along with the fields, rendered as complex values.  Phase of the field is represented by the hue while the amplitude is represented by the brightness.  It will automatically scale for the maximum value, but it is sometimes useful to use the options `maxRangeField` and `maxRangeSource` and `maxRangeN` to fix the values."
   ]
  },
  {
   "cell_type": "code",
   "execution_count": null,
   "metadata": {},
   "outputs": [],
   "source": [
    "sim.visualizeAllBokeh(maxRangeField=0.4)"
   ]
  },
  {
   "cell_type": "markdown",
   "metadata": {},
   "source": [
    "We can also visualize the field as an animation."
   ]
  },
  {
   "cell_type": "code",
   "execution_count": null,
   "metadata": {},
   "outputs": [],
   "source": [
    "sim.animateFields()"
   ]
  },
  {
   "cell_type": "markdown",
   "metadata": {},
   "source": [
    "# Python/Numpy Construction"
   ]
  },
  {
   "cell_type": "code",
   "execution_count": null,
   "metadata": {},
   "outputs": [],
   "source": [
    "xSize = 100\n",
    "ySize = 100\n",
    "WL0 = 15\n",
    "sim = EMSim(shape=(xSize,ySize), WL0=WL0)"
   ]
  },
  {
   "cell_type": "markdown",
   "metadata": {},
   "source": [
    "The EMSim object consists of four 2D numpy arrays and a bunch of methods to manipulate them.\n",
    "\n",
    "Input Arrays:\n",
    "* `sim.source`: Complex Values. The energy sources.\n",
    "* `sim.nIndex`: Complex Values. The optical index of the medium.  Positive imaginary part indicates material absorption.\n",
    "* `sim.pType`: Integer Values.  The role of each \"pixel\" within the simulation.  \n",
    " * It could be `sim.NORMAL_CODE = 0` in which the behavior there is governed by the optical index. \n",
    " * It could be `sim.ZERO_CODE = 1 ` in which the field is forced to be zero on this pixel.\n",
    " * It could be `sim.DERZERO_CODE = 2` in which the derivative of the field is forced to be zero on this pixel.\n",
    " \n",
    "Output Array:\n",
    "* `sim.field`: Complex Values.  The fields, which are populated through the use of `sim.solve()`."
   ]
  },
  {
   "cell_type": "markdown",
   "metadata": {},
   "source": [
    "Below we can see the default values for the arrays.\n",
    "* Pixel is normal with an optical index of 1, supporting wave propagation.\n",
    "* There is no sources\n",
    "* The field is zero because we haven't solved it yet."
   ]
  },
  {
   "cell_type": "code",
   "execution_count": null,
   "metadata": {},
   "outputs": [],
   "source": [
    "sim.pType[40,40]"
   ]
  },
  {
   "cell_type": "code",
   "execution_count": null,
   "metadata": {},
   "outputs": [],
   "source": [
    "sim.nIndex[40,40]"
   ]
  },
  {
   "cell_type": "code",
   "execution_count": null,
   "metadata": {},
   "outputs": [],
   "source": [
    "sim.source[40,40]"
   ]
  },
  {
   "cell_type": "code",
   "execution_count": null,
   "metadata": {},
   "outputs": [],
   "source": [
    "sim.field[40,40]"
   ]
  },
  {
   "cell_type": "markdown",
   "metadata": {},
   "source": [
    "These arrays can be manipulated directly using standard Numpy and Python operations."
   ]
  },
  {
   "cell_type": "code",
   "execution_count": null,
   "metadata": {},
   "outputs": [],
   "source": [
    "for x in range(xSize):\n",
    "    for y in range(ySize):\n",
    "        underWave = y < 5*cos(2*pi*(x-50)/30) + 50\n",
    "        inCircle = (x-50)**2 + (y-50)**2 < 40**2\n",
    "        n = 1 + x/xSize\n",
    "        if underWave and inCircle:\n",
    "            sim.nIndex[x,y] = n"
   ]
  },
  {
   "cell_type": "code",
   "execution_count": null,
   "metadata": {},
   "outputs": [],
   "source": [
    "sim.visualizeSimBokeh(imageWidth=200)"
   ]
  },
  {
   "cell_type": "code",
   "execution_count": null,
   "metadata": {},
   "outputs": [],
   "source": [
    "for x in range(xSize):\n",
    "    for y in range(ySize):\n",
    "        inCircle1 = (x-20)**2 + (y-80)**2 < 10**2\n",
    "        inCircle2 = (x-50)**2 + (y-80)**2 < 10**2\n",
    "        inCircle3 = (x-80)**2 + (y-80)**2 < 10**2\n",
    "        if inCircle1 or inCircle3:\n",
    "            sim.pType[x,y] = sim.ZERO_CODE\n",
    "        if inCircle2:\n",
    "            sim.pType[x,y] = sim.DERZERO_CODE"
   ]
  },
  {
   "cell_type": "code",
   "execution_count": null,
   "metadata": {},
   "outputs": [],
   "source": [
    "sim.visualizeSimBokeh(imageWidth=200)"
   ]
  },
  {
   "cell_type": "code",
   "execution_count": null,
   "metadata": {},
   "outputs": [],
   "source": [
    "for x in range(xSize):\n",
    "    amp = (1+.0001j)*exp(-(x-50)**2/30**2)\n",
    "    ph = 2*pi*x/(2*WL0)\n",
    "    s = amp*exp(J*ph)\n",
    "    sim.source[x,5] += s"
   ]
  },
  {
   "cell_type": "code",
   "execution_count": null,
   "metadata": {},
   "outputs": [],
   "source": [
    "sim.visualizeSimBokeh(imageWidth=200)"
   ]
  },
  {
   "cell_type": "code",
   "execution_count": null,
   "metadata": {},
   "outputs": [],
   "source": [
    "sim.BuildSimBounds()\n",
    "sim.buildSparsePhysicsEqs()\n",
    "sim.solve()"
   ]
  },
  {
   "cell_type": "code",
   "execution_count": null,
   "metadata": {},
   "outputs": [],
   "source": [
    "sim.visualizeAllBokeh()"
   ]
  },
  {
   "cell_type": "code",
   "execution_count": null,
   "metadata": {},
   "outputs": [],
   "source": [
    "sim.animateFields()"
   ]
  },
  {
   "cell_type": "markdown",
   "metadata": {},
   "source": [
    "# Shapely Construction"
   ]
  },
  {
   "cell_type": "code",
   "execution_count": null,
   "metadata": {},
   "outputs": [],
   "source": [
    "import shapely as sh\n",
    "from shapely.geometry import Polygon, Point, LineString\n",
    "from shapely.affinity import translate, scale, rotate"
   ]
  },
  {
   "cell_type": "markdown",
   "metadata": {},
   "source": [
    "Shapely is a library which allows for creation and manipulation of geometric objects.  It is very mathematical in nature.  However, we can use it to do some pretty basic things."
   ]
  },
  {
   "cell_type": "markdown",
   "metadata": {},
   "source": [
    "## Shape Creation with Buffer, Union, Difference, and Intersection"
   ]
  },
  {
   "cell_type": "markdown",
   "metadata": {},
   "source": [
    "We want to work with objects that have area.  We can either begin with a `Polygon`, or we can use `pt.buffer()` on a `Point` or `LineString` to give one of these area.  From there, we can use methods like `sh.union()`, `sh.difference()`, and `sh.intersection()` to create more complicated geometries.\n",
    "\n",
    "The full manual can be found here. (https://shapely.readthedocs.io/en/stable/manual.html)\n"
   ]
  },
  {
   "cell_type": "code",
   "execution_count": null,
   "metadata": {},
   "outputs": [],
   "source": [
    "myTriangleRounded = Polygon([(10,10),(20,25),(30,10)]).buffer(5)\n",
    "myTriangleRounded"
   ]
  },
  {
   "cell_type": "code",
   "execution_count": null,
   "metadata": {},
   "outputs": [],
   "source": [
    "triangleBiter = Point((10,10)).buffer(6)\n",
    "triangleBiter"
   ]
  },
  {
   "cell_type": "code",
   "execution_count": null,
   "metadata": {},
   "outputs": [],
   "source": [
    "myShape = myTriangleRounded.difference(triangleBiter)\n",
    "myShape"
   ]
  },
  {
   "cell_type": "code",
   "execution_count": null,
   "metadata": {},
   "outputs": [],
   "source": [
    "circleLeft = Point((40,40)).buffer(7)\n",
    "circleRight = Point((50,40)).buffer(6)\n",
    "lens = circleLeft.intersection(circleRight)\n",
    "lens"
   ]
  },
  {
   "cell_type": "code",
   "execution_count": null,
   "metadata": {},
   "outputs": [],
   "source": [
    "myShape = myShape.union(lens)\n",
    "myShape"
   ]
  },
  {
   "cell_type": "code",
   "execution_count": null,
   "metadata": {},
   "outputs": [],
   "source": [
    "xSize = 100\n",
    "ySize = 100\n",
    "WL0 = 15\n",
    "sim = EMSim(shape=(xSize,ySize), WL0=WL0)"
   ]
  },
  {
   "cell_type": "code",
   "execution_count": null,
   "metadata": {},
   "outputs": [],
   "source": [
    "sim.setNIndexPolygon(myShape, 2)"
   ]
  },
  {
   "cell_type": "code",
   "execution_count": null,
   "metadata": {},
   "outputs": [],
   "source": [
    "myShape2 = myShape.buffer(-4)"
   ]
  },
  {
   "cell_type": "code",
   "execution_count": null,
   "metadata": {},
   "outputs": [],
   "source": [
    "sim.setPTypePolygon(myShape2, sim.ZERO_CODE)"
   ]
  },
  {
   "cell_type": "code",
   "execution_count": null,
   "metadata": {},
   "outputs": [],
   "source": [
    "sim.visualizeSimBokeh(imageWidth=200)"
   ]
  },
  {
   "cell_type": "markdown",
   "metadata": {},
   "source": [
    "## Transformations: translate(), rotate(), and scale()"
   ]
  },
  {
   "cell_type": "markdown",
   "metadata": {},
   "source": [
    "We can also use methods like `translate()`, `rotate()`, and `scale()` to manipulate and copy these objects."
   ]
  },
  {
   "cell_type": "code",
   "execution_count": null,
   "metadata": {},
   "outputs": [],
   "source": [
    "disk = Point(0,0).buffer(5.1)\n",
    "disk"
   ]
  },
  {
   "cell_type": "code",
   "execution_count": null,
   "metadata": {},
   "outputs": [],
   "source": [
    "np.linspace(20,80,num=4, endpoint=True)"
   ]
  },
  {
   "cell_type": "code",
   "execution_count": null,
   "metadata": {},
   "outputs": [],
   "source": [
    "p = Polygon()\n",
    "for x in np.linspace(20,80,num=4, endpoint=True):\n",
    "    for y in np.linspace(20,80,num=4, endpoint=True):\n",
    "        newDisk = translate(disk, x, y)\n",
    "        p = p.union(newDisk)"
   ]
  },
  {
   "cell_type": "code",
   "execution_count": null,
   "metadata": {},
   "outputs": [],
   "source": [
    "p"
   ]
  },
  {
   "cell_type": "code",
   "execution_count": null,
   "metadata": {},
   "outputs": [],
   "source": [
    "xSize = 100\n",
    "ySize = 100\n",
    "WL0 = 15\n",
    "sim = EMSim(shape=(xSize,ySize), WL0=WL0)\n",
    "sim.setNIndexPolygon(p, 2)"
   ]
  },
  {
   "cell_type": "code",
   "execution_count": null,
   "metadata": {},
   "outputs": [],
   "source": [
    "sim.visualizeSimBokeh(imageWidth=200)"
   ]
  },
  {
   "cell_type": "markdown",
   "metadata": {},
   "source": [
    "## Custom Objects - Waveguides"
   ]
  },
  {
   "cell_type": "markdown",
   "metadata": {},
   "source": [
    "I've also create a function to build my own waveguide object.  You could do similar to build lenses, parabolic dishes, and similar."
   ]
  },
  {
   "cell_type": "code",
   "execution_count": null,
   "metadata": {},
   "outputs": [],
   "source": [
    "from CurveGenerator import buildCurvedWaveguide"
   ]
  },
  {
   "cell_type": "code",
   "execution_count": null,
   "metadata": {},
   "outputs": [],
   "source": [
    "wg1 = buildCurvedWaveguide([(50,10), (80,30), (55,60), (75,90), (10, 90)], rad=10, width=3)\n",
    "wg1"
   ]
  },
  {
   "cell_type": "code",
   "execution_count": null,
   "metadata": {},
   "outputs": [],
   "source": [
    "xSize = 100\n",
    "ySize = 100\n",
    "WL0 = 15\n",
    "sim = EMSim(shape=(xSize,ySize), WL0=WL0)\n",
    "sim.setNIndexPolygon(wg1, 2)"
   ]
  },
  {
   "cell_type": "code",
   "execution_count": null,
   "metadata": {},
   "outputs": [],
   "source": [
    "sim.visualizeSimBokeh(imageWidth=200)"
   ]
  },
  {
   "cell_type": "code",
   "execution_count": null,
   "metadata": {},
   "outputs": [],
   "source": []
  }
 ],
 "metadata": {
  "kernelspec": {
   "display_name": "Python 3",
   "language": "python",
   "name": "python3"
  },
  "language_info": {
   "codemirror_mode": {
    "name": "ipython",
    "version": 3
   },
   "file_extension": ".py",
   "mimetype": "text/x-python",
   "name": "python",
   "nbconvert_exporter": "python",
   "pygments_lexer": "ipython3",
   "version": "3.7.4"
  }
 },
 "nbformat": 4,
 "nbformat_minor": 4
}
